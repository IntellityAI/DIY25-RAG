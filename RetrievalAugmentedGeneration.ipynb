{
 "cells": [
  {
   "metadata": {},
   "cell_type": "code",
   "source": [
    "##############################################\n",
    "#                INDEXING                    #\n",
    "##############################################"
   ],
   "id": "cb93a69151b5b627",
   "outputs": [],
   "execution_count": null
  },
  {
   "metadata": {
    "ExecuteTime": {
     "end_time": "2025-05-04T21:02:32.246315Z",
     "start_time": "2025-05-04T21:02:30.366049Z"
    }
   },
   "cell_type": "code",
   "source": [
    "# Loading\n",
    "from langchain_community.document_loaders import PDFMinerLoader\n",
    "import re\n",
    "\n",
    "def metin_önişleme(documents):\n",
    "    for i in range(len(documents)):\n",
    "        documents[i].page_content = re.sub(r'\\.{2,}', '.', documents[i].page_content)\n",
    "        documents[i].page_content = documents[i].page_content.replace(\"\\n\", \" \")\n",
    "        documents[i].page_content = re.sub(r'\\s{3,}', \" \", documents[i].page_content)\n",
    "    return documents\n",
    "\n",
    "loader = PDFMinerLoader(\"data/YapayZeka.pdf\")\n",
    "data = loader.load()\n",
    "\n",
    "document = metin_önişleme(data)\n",
    "print(document)"
   ],
   "id": "a1c07be05989d93e",
   "outputs": [
    {
     "name": "stdout",
     "output_type": "stream",
     "text": [
      "[Document(metadata={'producer': 'Acrobat Distiller 6.0 (Windows)', 'creator': 'PScript5.dll Version 5.2', 'creationdate': '2006-11-05T22:13:15+02:00', 'moddate': '2006-11-05T22:13:15+02:00', 'title': 'Microsoft Word - yapay_zeka_icerik1_1.6.doc', 'author': 'sonmez', 'total_pages': 14, 'source': 'data/yapay_zeka_icerik1_1.6.pdf'}, page_content='1.GİRİŞ  Yapay  zekayı  anlamak  bilgisayarda  klasik  şekilde  veri  işlemek  düşüncesinden uzaklaşmayı gerektirir.  Burada söz konusu olan bilgisayarların programları ile klasik algoritmik  işlemleri  yapmasından  öte  daha  can  alıcı  özelliklerle ortaya  çıkmasıdır. Şöyle ki, bir bilgisayarınız var ama klavyesi yok, dolayısıyla konuştuğunuzu anlıyor, ona  göre  ilgili  komutları  yerine  getiriyor  ve  cevap  veriyor. Tabiî  ki  sonucu  size kullanıcı  uyumlu,  sesli  ve/veya  zengin  içerikli  grafik  ekran  gibi  çıkış  birimlerinden sunuyor. Daha  ileri  giderek,  bilgisayardan  tanımladığınız  işlevleri  yerine  getirecek program  üretmesini  sağlayabiliyorsunuz.  Evet,  bunlar  yakın  zamana  kadar  her  biri birer  hayal  olmaktan  öteye  gitmeyen  düşüncelerdi. Fakat  bunların  tümü  olmasa  da kısmen  gerçekleştiğini  görmekteyiz.  Bu  alandaki  gelişmenin  bilgisayar  teknolojisinin gelişmesi ve kullanımdaki yaygınlığının armasının önemli rolü bulunmaktadır. \"Bilgi\"  çağımıza  damgasını  vuran  bir  terim  olmaktan  da  öte,  yeni  bir  teknoloji  olma yolunda  hızla  ilerlemektedir.  Genellikle  bilgi  bilgisayarda  depolanmış  bir  varlık  gibi düşünülür.  Bilgi  veritabanı  uygulamalarında  olduğu  gibi  yapısal  olduğu  sürece depolanması  ve  kullanılması  bilgisayar  ortamında  kolaydır.  Ayrıca  bilgi  en  alt seviyede  bir  veri  olarak  değerlendirilmesi  söz  konusu  olduğu  gibi  yol  yöntemleri tanımlayan  bilgilere  ve  bu  bilgilerin  değerlendirilmesini  sağlayacak  bilgilere  (bilgi hakkında  bilgilere)  de  ihtiyaç  vardır. Diğer  yandan  Bilginin  en  etkin  bir  şekilde depolanıp  saklanması  ve  ihtiyaç  duyulduğunda  yüksek  performanstaki  bir  hızla bulunup  getirilmesi,  yeni  yöntemler  geliştirilmesini  gerektirmektedir.  Bunun  da  yolu hızlı, çalışma şekliyle insan beyninin çalışma anlayışıyla olabildiğince bütünleştirilmiş bilgisayarların yaratılması ile mümkün olabilecektir. Beklide klasik sayısal hesaplama yapabilen  bilgisayar  yapıları  dışında  bilgi  işleyen,  çıkarım  yapan  bilgisayar  mimari yapıları doğabilecektir. Birkaç bilimsel disiplinin ortak çalışma alanını oluşturan Yapay Zeka başlığı kanımca insanlığın  dünya  üzerindeki  başarısını  temsil  ettiğinden  konmuştur.  Ama  burada Yapay ve  Zeka  terimlerinin  genel  anlamda  değerlendirilmesi  gerekiyor.  Yapay denilince  ne  demek  istendiği  bellidir;  kısaca  doğal  bir  şeyin  yerine  geçen  benzeri \\x0cdemektir. Yapay tatlandırıcılar – doğal tatlandırıcılar gibi. Ama burada önemli tanım “zeka” tanımıdır. Şimdi bu tanımı detaylandıralım. 1.1. YAPAY ZEKA Literatürde \"Artificial Intelligence\" olarak adlandırılan yapay zeka ilk bakışta herkese farklı  bir  şeyin  çağrışımını  yaptırmaktadır.  Kimilerine  göre,  yapay  zeka  kavramı, insanoğlunun yerini alan insan gibi elektromekanik bir robotu çağrıştırmaktadır. Fakat bu  alanla  ilgili  olan  herkes,  insanoğlu  ile  makinalar  arasında  kesin  bir  farklılığın olduğu bilincindedir. Bilgisayarlar  mevcut  teknoloji  ile  hiçbir  zaman  insanoğlunun  yaratıcılık,  duygu  ve mizacının  benzeşimini  aktarabilme  becerisine  sahip  olamayacağı  görülmektedir. Bununla beraber, bilgisayarların belirli fiziksel insan davranışlarını yapan robotlar gibi makinalara yön vermesi  ve veri hesaplaması, tıbbi teşhis gibi belirli bir uzmanlık alanı ile ilgili beşeri düşünme sürecinin benzeşimini yapan  sistemlere beyin olma becerisine sahip  olması  mümkündür. Bu  şekilde  başarılı  uygulamaları  da  mevcut  olup  ticari getirisi de olmuştur. Bilgisayarlar,  insan  zekâsının  bazı  basit  fonksiyonlarını  daha  iyi  yapabilirler; matematik  hesapları  yapabilirler,  rakamları  ve  harfleri  işleyebilirler,  basit  kararlar verebilirler  ve  değişik  bilgi  saklama  ve  erişim  fonksiyonlarını  yürütebilirler.  Bu  tür uygulamalarda  bilgisayarlar  oldukça  iyidir  ve  genellikle  de  insanların  performansını geçerler. Çünkü  evlerde  kullanılan  bilgisayarlar  bile  5-6  haneli  iki  sayının  çarpa işlemini  nano  saniyeler  seviyesinde  yapmaktadır.  Veya  bir  kitap  içindeki  belli  bir kelimenin kaç tane olduğunu insanın algılamasının çok altında hemen çıkarmaktadır. Bilgisayarlar, insanın düşünme işlemlerini bazı yönlerini büyük ölçüde basitleştirir ve hızlandırır. Yapay zeka teknoloji uygulamaları ile elle yapılan kompleks işlemleri daha da genişletmemize yada otomatik olarak yapmamıza imkan sağlar. Ayrıca yapay zeka teknolojileri,  diğer  bilgisayar tabanlı  bilgi sistemleri ile  bütünleştirilerek bilgisayarların yetenekleri ve uygulanabilirlikleri hızla arttırılmaktadır. \\x0cYapay  zeka  alanında  önemli  gelişmeler  günümüzde  sağlanmış  olmakla  beraber, araştırma  düzeyi  halen  bazı  alanlarda  halen  kuluçka  safhasındadır.  Her  geçen  gün, yapay  zeka  araştırmacıları  yapay  zekanın  yeniden  tanımlanmasına  yardımcı  olacak yenilikler  ortaya  koymaktadır.  Hatta  bazıları  bu  gelişmelere  bakarak  yapay  zekânın tanımlanması  imkansız  muğlak  bir  kavram  olduğunu  bile  söylemektedir.  YZ konusunda  yapılan  çalışmaların  her  birisinin  cevaptan  daha  çok  yeni  sorular  ortaya koyduğu  bile  söylenebilir.  Bununla  ilgili  olarak,  MIT  (Massachusette  Technical University) araştırma grubunda yapay zeka ile ilgili çalışmaların öncüsü olan Marvin Minsky Yapay zekanın  “hareket eden bir ufuk” gibi olduğunu ifade etmektedir. Yapay  zeka  konusundaki  çalışmalar  1960\\'lardan  beri  gündemde  olmasına  karşın Yapay  zeka  uygulamalarının  çok  büyük  boyutta  bilgisayar  gücüne ihtiyaç duymasından  dolayı  araştırmacıların  çoğunun  bu  alanda  yeni  bir  şey  ortaya  koyma gayreti sonuçsuz kalmıştır. Ancak  günümüzde  bilgisayar  teknolojisinde  yaşanan  gelişmelerin  sağladığı  ucuz  ve güçlü bilgisayarlar sayesinde yapay zeka alanında büyük ölçekli araştırma yapabilmek ekonomik açıdan mümkün hale gelebilmiştir. Bunun sonucu olarak, yapay zekanın bir alt  alanı  olan  uzman  sistemler  (expert  systems)  konusunda  daha  şimdiden  önemli gelişmeler  sağlanmış  olup,  iş  aleminin  karar  verme  sürecinde  uzman  sistemlerden önemli ölçüde yararlandığı gözlenmektedir. Son birkaç yıl uygulamalı yapay zekaya karşı artan bir ilgiye tanık olmuştur. Bu konu büyük ilgi uyandırmıştır. Birçok büyük süreli yayın kapak konusu olarak yapay zekayı ele almıştır yada yapay zeka için özel ekler yayınlamışlardır. Ortaya düzinelerce yapay zeka kitabı çıkmıştır. Bir çok yapay zeka raporu düzenli olarak yayınlanmış ve dünya çapında bu konuda konferanslar düzenlenmiştir. 1.2. YAPAY ZEKA TANIMI \\x0cSayısız uygulama alanı olan “Yapay Zeka” kavramının doğal olarak pek çok tanımı da olacaktır.  Aşağıda bunlardan bir bölümü verilmiştir: YAPAY  ZEKA\\'nın  amacı,  normal  olarak  insan  zekasını  gerektiren  görevleri yapabilecek makinalar yapmaktır. YAPAY  ZEKA  araştırmalarının  amacı,  insan  varlığında  gözlemlediğimiz  ve  \"akıllı davranış\" olarak adlandırdığımız davranışları gösterebilen bilgisayarlar yapmaktır. YAPAY  ZEKA,  genel  olarak  insan  tarafından  yapıldığında,  doğal  zekayı  gerektiren görevleri  yapabilecek  mekanizmanın  oluşturulması  çabalarının tümü  olarak değerlendirilebilinir. YAPAY  ZEKA,  bilgisayarları  akıllı  yapma  bilimidir  ve  hem  bilgisayarları  daha faydalı  hale  getirmek  isteyenler,  hem  de  zekanın  doğasını  anlamak  isteyenler tarafından  uygulanmaktadır.  Zekanın  doğası  ile  ilgili  olanların  amacı,  zekayı  taklit etmek değil programı zeki hale getirmektir. Tüm bu tanımların veya farklılığından hareketle Yapay zekanın iki temel fikri yapıyla ilgili  olduğu  söylenebilir.  Bunlardan  birincisi;  zekanın  ne  olduğunun  anlaşılabilmesi için insan düşünce sürecinin araştırılması, ikincisi ise bu sürecin bilgisayarlar, robotlar vb. aracılığıyla gösterilmesi, somutlaştırılmasıdır. Tüm  bu  açıklamaların  ışığında  yapay  zekanın  en  çok  kabul  edilen  tanımı  şu  şekilde ortaya  konabilir:  Yapay  zeka,  insan  tarafından  yapıldığında  zeka  olarak  adlandırılan davranışların  (akıllı  davranışların)  makina  tarafından  da  yapılmasıdır;  ya  da  yapay zeka, insan aklının nasıl çalıştığını gösteren bir kuramdır. \\x0c1.3. YAPAY ZEKA AMAÇLARI Genel olarak yapay zekanın amacı üç ana başlık altında toplanabilir: •  Makinaları daha akıllı hale getirmek, •  Zekanın ne olduğunu anlamak, •  Makinaları daha faydalı hale getirmek, Bu noktada “akıllı davranış”ın tanımını ortaya koymak gerekmektedir. Birçok davranış türü, zekanın işaretleri olarak kabul edilebilir. Bunlara aşağıdaki tipik örnekleri gösterebiliriz: •  Tecrübelerden öğrenme ve anlama, •  Karışık ve zıt mesajlardan anlam çıkarma, •  Yeni bir duruma başarılı ve çabuk bir şekilde cevap verme, •  Problemlerin çözümünde muhakeme yeteneğini kullanma, •  Bilgiyi anlama ve kullanma, •  Alışık olunmayan, şaşırtıcı durumların üstesinden gelebilme, •  Düşünme ve muhakeme etme vb. 1.4. YAPAY ZEKA TARİHÇESİ Yapay  zekanın  tarihçesi  çeşitli  biçimlerde,  çeşitli  dönemlere  ayrılabilir.  Uygun  bir akışı içermesi bakımından aşağıdaki gibi bir sınıflandırma benimsenmiştir: Tarih  Öncesi  Dönem:  Bundan  binlerce  yıl  öncesinde  insanlığın  zor  anlaşılır  bir düşüncesi  vardı;  insan  vücudu  dışında  bir  zeka  yaratmak.  Bu  konuda  eski  Yunan mitolojisinde  de  bir  takım  örneklere  rastlamak  olasıdır;  rüzgarın  yaratıcısı  olarak \\x0cbilinen Daedelus’ un bir yapay-insan yaratmaya teşebbüs etmesi buna bir örnek olarak gösterilebilir. Yapay zeka için en önemli dönüm noktası 1884 yılıdır. Bu tarihte, Charles Babbage adındaki bir bilim adamı, bazı zeki davranışlar göstermesini istediği bir takım mekanik makinalar üzerinde deneyler yapmaktaydı. İnsan kadar zeki olamayacağı üzerinde hemfikir olunan bu makinalar üzerindeki çalışmalar sürdürülerek, nihayet 1950 yılına gelindi ve bu tarihte, Shannon adındaki bir bilim adamı, bilgisayarların satranç oynayabileceğini ileri sürdü. Böylece tarih öncesi adı altında isimlendirilen dönemin başındaki çalışmalar, 1960’ lı yılların başlarına kadar pek de hızlı denemeyecek bir süratte sürdürüldü. Doğuş:  Yapay  zeka  Birleşik  Devletler  Dartmouth\\'da  düzenlenen  ve  bir  grup  yüksek düzeyli bilim adamını biraraya getiren bir konferansın tarihi olan 1956\\'da doğmuştur. Bu konferansta J. McCarthy, M. Minsky, C. Shannon, A. Newell ve H. Simon zeka ile donatılmış bilgisayar programlarını gerçekleştirme olasılığını araştırmayı önermişlerdir.  Bu  vesile  ile  ortaya  konan  Artificial  Intelligence  terimi  kullanılmaya başlanmış. İlk yapay zeka programları (bir Mantık teoremleri uygulayıcısı, Logic Theorist ve bir satranç  oyunu  programı;  her  ikisi  de  Newell  ve  Simon\\'ındır)  ve  LISP  (yapay  zeka programlama dili) de bu dönemde ortaya çıkmıştır. Aslında insanın “zeki” makinelere ilgisi çok eskiye dayanır. Bilimsel bir planda ise bir yandan  otomatlar  üzerindeki  teorik  ve  pratik  gelişmeler,  diğer  yandan  matematiksel mantık çalışmaları yapay zekanın ilk temellerini oluşturmuştur. İlk  olarak  Babbage  (ve  \"analitik\"  makinesi,  1842),  Turing  (ve  evrensel  makinesi, 1936)  ve  beynin  edinilen  bilgileri  işlemesinde  karşı  tepki  olaylarının  önemini  ortaya çıkaran sibernetikten (1943\\'e doğru, özellikle Wiener ile doğan) bahsedilebilir. İkinci olarak  1930\\'a  doğru,  çözümün  algoritmik  olmadığı  (yani  çözümün  belli  bir  sıra  ile \\x0cgerçekleşen  sınırlı  bir  işlemler  dizisi  şeklinde  ifade  edilmediği)  problemlerin  varlığı gerçeğinin  kanıtlanması  ile  sonuçlanan  çözümsüzlük  ve  eksik  kalma  konusundaki önemli çalışmalar Leibniz, Boole, Hilbert, Gödel ve Church\\'e aittir. Gerçek  yapay  zekanın  doğuşuna  yol  açan  gerçek  etmen  1943\\'e  doğru  bilgisayarların ortaya  çıkmasıdır.  Bu  dönemden  itibaren  bazı  öncüler  bu  makineleri  biraz  zeka  ile donatma  meselesini  ele  aldılar.  Böylelikle  1950\\'de  matematikçi  A.  Turing  bir makinenin  zeki  olup  olmadığına  karar  verme  olanağı  tanıyan  bir  test  ortaya  koydu. Temel  kuralı  tartışmalı olmakla birlikte bu test, bu dönemden itibaren bilgisayarların zekasına verilen önemi gayet iyi göstermektedir. Dartmouth  Konferansı:  Bu  konferansın  başlangıcı;  Yapay  zeka  konusunda  yeni  bir çağın  doğuşu  olarak  da  nitelendirilebilir.  Dartmouth  Koleji  tarafından  düzenlenen  bu konferansta  Yapay  zeka  (Artificial  Intelligent:  AI)  adı  ilk  kez  öğrenildi  ve  bu konferansa katılanlar, yapay zekanın öncüleri olarak kabul gördüler. Bunların arasında, Marvin  Minsky (MIT’  de  Yapay  zeka  laboratuvarının  kurucusu),  Claude  Shannon, Nathaniel  Rochester  (IBM),  Allen  Newell  (Amerikan  Yapay  Zeka  Derneği’  nin  ilk başkanı) ve Nobel Ödülü sahibi Herbert Simon sayılabilir. Bu  dönemde  ulaşılan  bazı  önemli  başarılara,  zeka  testlerindeki  benzer  geometrik şekillerin  ayırt  edilmesinde  kullanılan  bir  program  örnek  olarak  gösterilebilir.  Bu dönemdeki başarılar ne yazık ki zeki bilgisayarların yaratılması konusunda çok erken ve gerçekçi olmayan bir beklenti döneminin de başlangıcını oluşturdu. Karanlık Dönem (1965-1970): Bu dönemde çok az şeyin geliştirilebilmesi böyle bir nitelemeyi  haklı  çıkarmaya  yetecek  özelliktedir.  Bir  önceki  dönemde  yaratılan  aşırı iyimser ve aceleci tutum, konuyla ilgili bilim adamlarını akıllı bilgisayarlar yapımının çok kolay bir işlem olduğuna inandırdı. Neticede bilgisayar uzmanları filozof türünde bir  mekanizma  geliştirmek  için  uğraştılar  ve  sadece  verileri  yükleyerek  akıllı bilgisayarlar  yapmayı  umdular.  Sonuç  olarak  bu  dönem  tam  anlamıyla  karanlık  bir bekleme dönemi niteliği kazandı. \\x0cRönesans  Dönemi  (1970-1975):  Bu  dönem  artık  önüne  geçilemeyecek  gelişmelerin başlangıcı olarak algılanmaktadır. Yapay zeka uzmanları özellikle hastalık teşhisi gibi sistemleri  geliştirerek,  bugün  heyecanla  sonuçları  kestirilmeye  çalışılan,  uzun  ve heyecanlı bir maceranın temellerini attılar. Ortaklık  Dönemi  (1975-1980):  Rönesans  döneminin  hemen  ardındaki  bu  dönemde Yapay  zeka  araştırıcıları,  dil  ve  psikoloji  gibi  diğer  bilim  alanlarından  da faydalanabileceklerini gördüler. Gelişmenin  Önemli  Evreleri:  Yapay  zekanın  tarihi  çok  şematik  olarak  dört  evreye bölünebilir: Karşılaşılan  sorunlardaki  büyük  güçlükleri  henüz  tam  olarak  tartamamış  olan araştırmacıların  abartılı  bir  iyimserliği  ile  geçen  50\\'li  yıllar  yapay  zekanın  doğuşuna tanık olmuştur. Sonraki on yıl çok sayıdaki proje ve sağlanan bazı önemli sonuçlarla disiplinde gerçek bir  hareketliliğe  tanık  olmuştur:  “bulgusal”  (hiyerarşik) araştırma  algoritmaları  ve hatta GPS (General Problem Solbver), genel problem çözümleme sistemi vs. 70\\'li  yıllar  bilgilerin  temsil  edilmesi  ve  usavurmada,  uzman  sistemler,  anadilin anlaşılması  yada  ileri  robot  bilimi  konularında  yapay  zekanın  temellerinin  ortaya konmasına yol açan çalışmalarda bir patlamaya tanık olmuştur. 80\\'ler  adı  geçen  alanlarda  çarpıcı  pratik  uygulamalar  ve  buna  paralel  olarak sanayileşmiş ülkelerin büyük bir bölümünde gözü yükseklerde olan projeler tarafından araştırmaya  yönelik  çabalarda  kayda  değer  bir  artış  ile,  yapay  zekanın  ekonomik hayata girişini temsil ederler. \\x0cİçinde  bulunduğumuz  girişimcilik  döneminin  en  önemli  özelliği  ise  Yapay  zekanın laboratuarın  dışına  çıkarılarak,  gerçek  dünyanın  ihtiyaçlarına  uyarlama  girişimleridir. Burada  yeni  olduğu  söylenebilecek  olan,  daha  önce  geleneksel  işlem  metodları  ile ihtiyaçları karşılanan kullanıcıların, bugün ekonomik olarak daha uygun yazılımlar ve araçlar sayesinde, daha geniş kullanım alanlarının ortaya çıkmasıdır. YZ için geliştirilen temel program John McCarthy tarafından 1957 de geliştirilen LISP programıdır. Basic, Fortran, Cobol ve Pascal gibi programların aksine, LISP sembol, kural,  ilişki  gibi  diğer  ayrıntılı  konularla  da  ilgilidir.  LISP  kullanıcıları  için  esas techizat,  LISP  makinası  veya  sembolik  işlemci  diye  adlandırılan  düzenektir.  Bu sembolik  işlemci,  bir  çeşit  bilgisayar  sistemi  ve  yapay  zeka  programlarının geliştirilmesi  ve  uygulanmasını  etkili  ve  verimli  şekilde  desteklemek  için  dizayn edilmiş mantıksal işlem yapan bir sistemdir. 1.5. YAPAY ZEKA ve DOĞAL ZEKA KARŞILAŞTIRMASI Yapay  zekanın  potansiyel  değeri  ve  gelecekteki  ufukları,  YZ’nın  doğal  zeka  ile  bazı alanlarda karşılaştırılmasıyla daha net bir şekilde algılanabilir. Yapay  Zeka  daha  fazla  kalıcıdır:  Doğal  zeka  zaman  içinde  çalışanlar  yer değiştirdikçe değişebilir veya doğal zekaya sahip olan insanlar sahip oldukları bilgileri  unutabilirler.  Yapay  zeka,  buna  karşılık  kalıcıdır  ve  bilgisayar sistemleri  ve  programları  değişmediği  sürece  kaybolması,  unutulması  söz konusu değildir. Yapay  Zeka  kolaylıkla  kopyalanabilir  ve  geniş  kitlelere  yayımlanabilir:  Doğal zeka söz konusu olduğunda bir uzmanlığın bir kişiden diğerine aktarılması uzun süreli bir çıraklık dönemini gerektirir. Bu sağlansa bile uzmanlık tam anlamıyla diğer  kişiye  transfer  edilemez.  Ama  bilgi  bir  bilgisayar  sisteminin  içine sokulursa,  bu  kolayca  bir  bilgisayardan  diğerine  kopya  edilebilir  ve  kullanım alanı genişletilebilir. \\x0cYapay  Zeka  doğal  zekadan  daha  ucuza  elde  edilebilir:  Birçok  alanda bilgisayarın  satın  alınması  ve  kullanılması,  insanın  eğitilip  kullanılmasından çoğu alanda, çok daha ucuza sağlanabilir. Yapay  Zeka  bir  bilgisayar  teknolojisi  olarak  bütünüyle  tutarlıdır  onda tutarsızlık  yoktur:  Buna  karşılık  doğal  zeka  kararsız,  değişken  ve  düzensizdir. Bu, doğal zekanın sahibi olan insanın tabiatından kaynaklanır. Yapay  Zeka  dökümante  edilebilir:  Bilgisayar  tarafından  verilen  kararlar kolaylıkla  sistemin  faaliyetleri  takip  edilerek  belgelenebilir.  Doğal  zekanın tekrar  üretimi  zordur.  Örneğin  bir  insan  ulaştığı  bir  karara  belli  bir  süre geçtikten sonra tekrar  ulaşamaz;  bu  karara  nasıl  ulaştığını,  hangi varsayımlardan yola çıktığını hatırlamayabilir. Bütün  bunlara  karşın  doğal  zekanın  da  yapay  zekadan  üstün  olduğu  durumlar  ve alanlar vardır. Bunlara şu örnekleri gösterebiliriz: Doğal  zeka  yaratıcı  ve  doğurgandır:  Yapay  zekada  ise  yaratıcılık  ve doğurganlık yoktur: Bilgiyi kazanma yeteneği insanın doğal zekasının doğal bir haliyken, yapay zekada bilgi, sistemin içine özenle yerleştirilmelidir. Doğal  zeka,  insanlara  duyuları  yoluyla  öğrendiği  deneyimleri  kullanma  ve bunlardan faydalanma yeteneği sağlar: Buna karşılık yapay zeka sistemlerinin çoğu sembolik girdilerle çalışırlar. Doğal zeka avantajlarının en önemlisi, insan muhakeme gücünün, problemleri çözmek  için  geniş  tecrübeleri,  karşılaşılan  konuya  göre  hemen  kullanma yeteneğidir: Yapay zeka sistemleri ise kendilerine sağlanan nispeten dar çözüm yöntemlerini kullanmaya mahkumdurlar. \\x0cBilgisayarlar;  nesneler,  olaylar  yada  prosesler  hakkında  bilgi toplamak için kullanılabilir  ve  tabii  ki  bilgisayarlar  çok  büyük  miktarda  verileri  insanlardan  daha hızlı  ve  daha  verimli işleyebilirler.  Bununla  birlikte insanlar,  bir  bilgisayar programında yapılması çok zor olan bazı şeyleri içgüdüsel olarak yaparlar, nitelikleri hissedebilirler  ve  değişik  elemanların  birbiriyle  olan  ilişkisini  açıklamaya  yarayan modelleri görebilirler ve ayırt edebilirler. Gazete  fotoğrafları,  anlık  beneklerin  kümesinden  başka  birşey  değildir.  Yine  de insanlar,  bilinçli  bir  çaba  göstermeden  bu  fotoğraflardaki  yüzleri  ve  nesneleri  ortaya çıkaran  modelleri  bulurlar.  Benzer  şekilde,  insanların  dünyada  olup  bitenleri hissetmesini  sağlayan  yollardan  biri  de  karşılaştıkları  nesnelere  ve  olaylara  anlam vermesine yardımcı olan ilişkilerin ve modellerin farkına varmasıdır. Eğer bilgisayarlar daha zeki olacaklarsa, insanlara çok doğal gelen nesneler, olaylar ve prosesler üzerinde düşünsel olarak bir araya gelebilmelidirler. 1.6. YAPAY ZEKA ile İGİLİ BAZI KAVRAMLAR Yapay zekanın en yaygın tanımlarından biri aşağıdaki gibidir: Yapay zeka, şu anda insanların bilgisayarlardan daha iyi yaptığı şeyleri bilgisayarların daha iyi yapmasını sağlama çalışmasıdır. Bu amaçla yapay zekanın amaçları aşağıdaki gibi düşünülebilinir. 1. Makineleri daha zeki yapmak(temel amaç) 2. Zekanın ne olduğunu anlamak 3. Makineleri daha kullanışlı hale getirmek Şimdi akıllı davranış teriminin anlamını inceleyelim. Aşağıda sıralanan birkaç yetenek zekanın göstergesi olarak düşünülür: •  Tecrübeden faydalanılarak öğrenme yada anlama •  Belirsiz ve çelişkili mesajlardan etkilenme \\x0c•  Yeni  bir  duruma  çabuk  ve  başarılı  bir  şekilde  yanıt  verme  (değişik yanıtlar,esneklik) •  Problem çözmede sebepleri kullanma •  Sürpriz durumlara karşılık verme •  Olağan ve rasyonel yollarla anlama ve sonuç çıkarma •  Bilgiyi, ortamı işlemek için kullanmak •  Bilgiyi elde etme ve uygulama •  Düşünme ve sebep bulma •  Herhangi bir durumda değişik elemanların bağıl önemini belirleme Yapay zekanın en büyük amacı, insan zekasını taklit eden makineler yapmak olmasına rağmen,  mevcut  ticari  yapay  zeka  ürünlerinin  yetenekleri  yukarıda  listelenen yeteneklerle  karşılaştırıldığında  önemli  bir  başarı sergilemekten  çok  uzak kalmaktadırlar.  Yine  de  yapay  zeka  programları  her  geçen  gün  daha  ileriye  gitmekte ve insan zekası gerektiren bazı işlere rehberlik etmekte oldukça faydalı olmaktadırlar. Alan  Turing  tarafından  “Turing  Test”  diye  bilinen  testinde,  bir  bilgisayarın  akıllı  bir davranış  sergileyip  sergilemediğini  belirlemesi  öngörülmüştür.  Bu  teste  göre,  bir insanın  görünmeyen  bir  bilgisayarla  ve  görünmeyen  bir  insanla  sohbet  ettiği  zaman, hangisinin  bilgisayar  hangisinin insan  olduğunu  ayırt  edemediği  durumda  o bilgisayarın,  ya  da  diğer  bir  deyişle  o  bilgisayarda  çalışan  programın  akıllı  olduğu söylenir. Bu noktada, sunulan yapay zeka tanımları zeka boyutu üzerinde yoğunlaşmıştır. Yapay zekanın  aşağıdaki  tanımları  ve  karakteristikleri  karar  verme  ve  problem  çözme üzerinde yoğunlaşmıştır. Sembolik İşleme Uzmanlar, yapay zekaya uygun tipte olan problemleri çözmek için, eşitlik kümelerini çözerek  yada  yorucu  matematik  hesaplamaları  yaparak  çalışmazlar.  Bunun  yerine, problem  içeriklerini  tanımlamak  için  sembol  kullanırlar  ve  bu  içerikleri  işlemek  için \\x0cdeğişik  stratejiler  ve  kurallar  uygularlar.  Waterman\\'ın  yapay  zeka  yaklaşımı  bilgiyi, problem  konseptlerini  temsil  eden  semboller  kümesi  olarak  tanımlar.  Yapay  zekanın teknik  dilinde  sembol  gerçek  dünyanın  bazı  içeriklerini  temsil  eden  karakterler kümesidir. Aşağıda bazı sembol örneklerini görebilirsiniz: •  “Ürün” •  “Sanık” •  “0.8” Bu semboller anlamlı ilişkiler kurmak için bir araya getirilebilir. Bu ilişkiler, bir yapay zeka  programında  kullanıldığı  takdirde  bunlara  sembol  yapıları  denir.  Aşağıda  bazı sembol yapılarını görebilirsiniz: •  (HATALI Ürün) •  (Ürün sanığı tarafından KİRALANMIŞ) •  (EŞİTTİR (BORÇLU sanık) 0.8) Bu  yapılar,  “Ürün  hatalıdır”,  “Ürün  sanık  tarafından  kiralanmıştır”  ve  “Sanığın borçluluk  oranı  0.8”  dir  şeklinde  yorumlanabilir.  Bunun  yanında,  bu  yapılar  farklı şekilde  de  yorumlanabilirler.  İşte,  bu  farklı  yorumlama  yapay  zeka  sistemlerini kurarken karşılaştığımız problemlerden biridir. Bir problemi çözmek için, yapay zeka programı bu sembolleri kullanır. Bu yaklaşımın sonucu  olarak  bilginin  temsili-kullanılan  sembollerin  seçimi,  biçimi  ve  yorumu  çok önemlidir. Sembolik  işleme,  aşağıda  yapılan  tanımda  belirtildiği  gibi  yapay  zekanın  temel karakteristiğidir.  Yapay  zeka,  bilgisayar  biliminin  sembollerle  ve  problem  çözmede algoritmik  olmayan  metodlarla  çalışan  bir  dalıdır.  Aşağıdaki  tanım  bilgisayar programlarının iki karakteristiği üzerinde yoğunlaşır: 1. Sayısala karşı sembolik: Bilgisayarlar ilk olarak özellikle rakamları işlemek için tasarlandılar  (sayısal  işleme).  Buna  karşın  insanlar,  sembolik  olarak  düşünme \\x0ceğilimlidirler;  kısmen, zekamız rakamlardan çok sembolleri işleme yeteneğimize  bağlıdır.  Sembolik  işleme,  yapay  zekanın  çekirdeği  olmasına rağmen  bu,  yapay  zekanın  matematik  içermediği  anlamına  gelmez.  Ama tercihan, yapay zekada vurgu sembollerin işlenmesindedir. 2. Algoritmiğe karşı algoritmik olmayan: Bir algoritma iyi tanımlanmış başlangıç ve  bitiş  noktaları  olan  ve  belirli  bir  probleme  bir  sonuç  üreten  bir  adım  adım işlemleridir. Bilgisayar mimarisi, bu adım adım yaklaşımı tercih eder. Pek çok insandan  kaynaklı  işlemler,  algoritmik  değildirler.  Diğer  bir  deyişle,  zihin fonksiyonlarımız lojik ve adım adım  işlemlerden daha çok karmaşıktır. Bulgusallık (Sezgisellik) Bulgusallık, kurallar yumağı olarak, aşağıdaki tanımda yapay zekanın anahtar elemanı olarak  kullanılmıştır:  \"Yapay  zeka,  bilgisayar  biliminin,  bilgiyi  rakamlardan  ziyade sembollerle temsil etme yöntemleri ve kurallar yumağını içeren bulgusal yapıda veya bilgiyi işleme metodları  ile çalışan bilim dalıdır” (Britannica Ansiklopedisi). Anlam Çıkarma Yapay  zeka,  makinenin  sebep  bulma  yeteneği  sergilemesini  gerektirir.  Sebep  bulma, bulgusal yada diğer arama yaklaşımlarını kullanarak, olaylardan ve kurallardan anlam çıkarma sürecinden oluşur. Bu süreç üzerinde semboller üzerinde gerçeklenen en basit şekildeki  örüntü  uydurma  ve  tanıma  (pattern  matching,  recognation)  bu  işin  esasını oluşturmaktadır.  Yapay zeka,  bu yaklaşımını uygulayarak anlam çıkarmada eşsizdir.')]\n"
     ]
    }
   ],
   "execution_count": 1
  },
  {
   "metadata": {
    "ExecuteTime": {
     "end_time": "2025-05-04T21:08:28.554734Z",
     "start_time": "2025-05-04T21:08:28.490818Z"
    }
   },
   "cell_type": "code",
   "source": [
    "# Split\n",
    "from langchain.text_splitter import RecursiveCharacterTextSplitter\n",
    "text_splitter = RecursiveCharacterTextSplitter.from_tiktoken_encoder(\n",
    "    chunk_size=1024,\n",
    "    chunk_overlap=200)\n",
    "\n",
    "# Make splits\n",
    "splits = text_splitter.split_documents(document)\n",
    "print(f\"Chunk Sayısı: {len(splits)}\")\n",
    "print(\"---\"*30)\n",
    "for chunk in splits:\n",
    "    print(chunk.page_content)\n",
    "    print(\"---\"*30)"
   ],
   "id": "4d23cf217c389ae6",
   "outputs": [
    {
     "name": "stdout",
     "output_type": "stream",
     "text": [
      "Chunk Sayısı: 16\n",
      "------------------------------------------------------------------------------------------\n",
      "1.GİRİŞ  Yapay  zekayı  anlamak  bilgisayarda  klasik  şekilde  veri  işlemek  düşüncesinden uzaklaşmayı gerektirir.  Burada söz konusu olan bilgisayarların programları ile klasik algoritmik  işlemleri  yapmasından  öte  daha  can  alıcı  özelliklerle ortaya  çıkmasıdır. Şöyle ki, bir bilgisayarınız var ama klavyesi yok, dolayısıyla konuştuğunuzu anlıyor, ona  göre  ilgili  komutları  yerine  getiriyor  ve  cevap  veriyor. Tabiî  ki  sonucu  size kullanıcı  uyumlu,  sesli  ve/veya  zengin  içerikli  grafik  ekran  gibi  çıkış  birimlerinden sunuyor. Daha  ileri  giderek,  bilgisayardan  tanımladığınız  işlevleri  yerine  getirecek program  üretmesini  sağlayabiliyorsunuz.  Evet,  bunlar  yakın  zamana  kadar  her  biri birer  hayal  olmaktan  öteye  gitmeyen  düşüncelerdi. Fakat  bunların  tümü  olmasa  da kısmen  gerçekleştiğini  görmekteyiz.  Bu  alandaki  gelişmenin  bilgisayar  teknolojisinin gelişmesi ve kullanımdaki yaygınlığının armasının önemli rolü bulunmaktadır. \"Bilgi\"  çağımıza  damgasını  vuran  bir  terim  olmaktan  da  öte,  yeni  bir  teknoloji  olma yolunda  hızla  ilerlemektedir.  Genellikle  bilgi  bilgisayarda  depolanmış  bir  varlık  gibi düşünülür.  Bilgi  veritabanı  uygulamalarında  olduğu  gibi  yapısal  olduğu  sürece depolanması  ve  kullanılması  bilgisayar  ortamında  kolaydır.  Ayrıca  bilgi  en  alt seviyede  bir  veri  olarak  değerlendirilmesi  söz  konusu  olduğu  gibi  yol  yöntemleri tanımlayan  bilgilere  ve  bu  bilgilerin  değerlendirilmesini  sağlayacak  bilgilere  (bilgi hakkında  bilgilere)  de  ihtiyaç  vardır. Diğer  yandan  Bilginin  en  etkin  bir  şekilde depolanıp  saklanması  ve  ihtiyaç  duyulduğunda  yüksek  performanstaki  bir  hızla bulunup  getirilmesi,  yeni  yöntemler  geliştirilmesini  gerektirmektedir.  Bunun  da  yolu hızlı, çalışma şekliyle insan beyninin çalışma anlayışıyla olabildiğince bütünleştirilmiş bilgisayarların yaratılması ile\n",
      "------------------------------------------------------------------------------------------\n",
      "bilgilere)  de  ihtiyaç  vardır. Diğer  yandan  Bilginin  en  etkin  bir  şekilde depolanıp  saklanması  ve  ihtiyaç  duyulduğunda  yüksek  performanstaki  bir  hızla bulunup  getirilmesi,  yeni  yöntemler  geliştirilmesini  gerektirmektedir.  Bunun  da  yolu hızlı, çalışma şekliyle insan beyninin çalışma anlayışıyla olabildiğince bütünleştirilmiş bilgisayarların yaratılması ile mümkün olabilecektir. Beklide klasik sayısal hesaplama yapabilen  bilgisayar  yapıları  dışında  bilgi  işleyen,  çıkarım  yapan  bilgisayar  mimari yapıları doğabilecektir. Birkaç bilimsel disiplinin ortak çalışma alanını oluşturan Yapay Zeka başlığı kanımca insanlığın  dünya  üzerindeki  başarısını  temsil  ettiğinden  konmuştur.  Ama  burada Yapay ve  Zeka  terimlerinin  genel  anlamda  değerlendirilmesi  gerekiyor.  Yapay denilince  ne  demek  istendiği  bellidir;  kısaca  doğal  bir  şeyin  yerine  geçen  benzeri \fdemektir. Yapay tatlandırıcılar – doğal tatlandırıcılar gibi. Ama burada önemli tanım “zeka” tanımıdır. Şimdi bu tanımı detaylandıralım. 1.1. YAPAY ZEKA Literatürde \"Artificial Intelligence\" olarak adlandırılan yapay zeka ilk bakışta herkese farklı  bir  şeyin  çağrışımını  yaptırmaktadır.  Kimilerine  göre,  yapay  zeka  kavramı, insanoğlunun yerini alan insan gibi elektromekanik bir robotu çağrıştırmaktadır. Fakat bu  alanla  ilgili  olan  herkes,  insanoğlu  ile  makinalar  arasında  kesin  bir  farklılığın olduğu bilincindedir. Bilgisayarlar  mevcut  teknoloji  ile  hiçbir  zaman  insanoğlunun  yaratıcılık,  duygu  ve mizacının  benzeşimini  aktarabilme  becerisine  sahip  olamayacağı  görülmektedir. Bununla beraber, bilgisayarların belirli fiziksel insan davranışlarını yapan robotlar gibi makinalara yön vermesi  ve veri hesaplaması, tıbbi teşhis gibi belirli bir uzmanlık alanı ile ilgili beşeri düşünme sürecinin benzeşimini yapan  sistemlere beyin olma becerisine sahip  olması  mümkündür. Bu  şekilde  başarılı  uygulamaları  da  mevcut  olup  ticari getirisi de olmuştur. Bilgisayarlar,\n",
      "------------------------------------------------------------------------------------------\n",
      "olamayacağı  görülmektedir. Bununla beraber, bilgisayarların belirli fiziksel insan davranışlarını yapan robotlar gibi makinalara yön vermesi  ve veri hesaplaması, tıbbi teşhis gibi belirli bir uzmanlık alanı ile ilgili beşeri düşünme sürecinin benzeşimini yapan  sistemlere beyin olma becerisine sahip  olması  mümkündür. Bu  şekilde  başarılı  uygulamaları  da  mevcut  olup  ticari getirisi de olmuştur. Bilgisayarlar,  insan  zekâsının  bazı  basit  fonksiyonlarını  daha  iyi  yapabilirler; matematik  hesapları  yapabilirler,  rakamları  ve  harfleri  işleyebilirler,  basit  kararlar verebilirler  ve  değişik  bilgi  saklama  ve  erişim  fonksiyonlarını  yürütebilirler.  Bu  tür uygulamalarda  bilgisayarlar  oldukça  iyidir  ve  genellikle  de  insanların  performansını geçerler. Çünkü  evlerde  kullanılan  bilgisayarlar  bile  5-6  haneli  iki  sayının  çarpa işlemini  nano  saniyeler  seviyesinde  yapmaktadır.  Veya  bir  kitap  içindeki  belli  bir kelimenin kaç tane olduğunu insanın algılamasının çok altında hemen çıkarmaktadır. Bilgisayarlar, insanın düşünme işlemlerini bazı yönlerini büyük ölçüde basitleştirir ve hızlandırır. Yapay zeka teknoloji uygulamaları ile elle yapılan kompleks işlemleri daha da genişletmemize yada otomatik olarak yapmamıza imkan sağlar. Ayrıca yapay zeka teknolojileri,  diğer  bilgisayar tabanlı  bilgi sistemleri ile  bütünleştirilerek bilgisayarların yetenekleri ve uygulanabilirlikleri hızla arttırılmaktadır. \fYapay  zeka  alanında  önemli  gelişmeler  günümüzde  sağlanmış  olmakla  beraber, araştırma  düzeyi  halen  bazı  alanlarda  halen  kuluçka  safhasındadır.  Her  geçen  gün, yapay  zeka  araştırmacıları  yapay  zekanın  yeniden  tanımlanmasına  yardımcı  olacak yenilikler  ortaya  koymaktadır.  Hatta  bazıları  bu  gelişmelere  bakarak  yapay  zekânın tanımlanması  imkansız  muğlak  bir  kavram  olduğunu  bile  söylemektedir.  YZ konusunda  yapılan  çalışmaların  her  birisinin  cevaptan  daha  çok\n",
      "------------------------------------------------------------------------------------------\n",
      "safhasındadır.  Her  geçen  gün, yapay  zeka  araştırmacıları  yapay  zekanın  yeniden  tanımlanmasına  yardımcı  olacak yenilikler  ortaya  koymaktadır.  Hatta  bazıları  bu  gelişmelere  bakarak  yapay  zekânın tanımlanması  imkansız  muğlak  bir  kavram  olduğunu  bile  söylemektedir.  YZ konusunda  yapılan  çalışmaların  her  birisinin  cevaptan  daha  çok  yeni  sorular  ortaya koyduğu  bile  söylenebilir.  Bununla  ilgili  olarak,  MIT  (Massachusette  Technical University) araştırma grubunda yapay zeka ile ilgili çalışmaların öncüsü olan Marvin Minsky Yapay zekanın  “hareket eden bir ufuk” gibi olduğunu ifade etmektedir. Yapay  zeka  konusundaki  çalışmalar  1960'lardan  beri  gündemde  olmasına  karşın Yapay  zeka  uygulamalarının  çok  büyük  boyutta  bilgisayar  gücüne ihtiyaç duymasından  dolayı  araştırmacıların  çoğunun  bu  alanda  yeni  bir  şey  ortaya  koyma gayreti sonuçsuz kalmıştır. Ancak  günümüzde  bilgisayar  teknolojisinde  yaşanan  gelişmelerin  sağladığı  ucuz  ve güçlü bilgisayarlar sayesinde yapay zeka alanında büyük ölçekli araştırma yapabilmek ekonomik açıdan mümkün hale gelebilmiştir. Bunun sonucu olarak, yapay zekanın bir alt  alanı  olan  uzman  sistemler  (expert  systems)  konusunda  daha  şimdiden  önemli gelişmeler  sağlanmış  olup,  iş  aleminin  karar  verme  sürecinde  uzman  sistemlerden önemli ölçüde yararlandığı gözlenmektedir. Son birkaç yıl uygulamalı yapay zekaya karşı artan bir ilgiye tanık olmuştur. Bu konu büyük ilgi uyandırmıştır. Birçok büyük süreli yayın kapak konusu olarak yapay zekayı ele almıştır yada yapay zeka için özel ekler yayınlamışlardır. Ortaya düzinelerce yapay zeka kitabı çıkmıştır. Bir çok yapay zeka raporu düzenli olarak yayınlanmış ve dünya çapında bu konuda konferanslar düzenlenmiştir. 1.2. YAPAY ZEKA TANIMI \fSayısız uygulama alanı olan “Yapay Zeka” kavramının doğal olarak pek çok tanımı da olacaktır.  Aşağıda\n",
      "------------------------------------------------------------------------------------------\n",
      "yapay zekayı ele almıştır yada yapay zeka için özel ekler yayınlamışlardır. Ortaya düzinelerce yapay zeka kitabı çıkmıştır. Bir çok yapay zeka raporu düzenli olarak yayınlanmış ve dünya çapında bu konuda konferanslar düzenlenmiştir. 1.2. YAPAY ZEKA TANIMI \fSayısız uygulama alanı olan “Yapay Zeka” kavramının doğal olarak pek çok tanımı da olacaktır.  Aşağıda bunlardan bir bölümü verilmiştir: YAPAY  ZEKA'nın  amacı,  normal  olarak  insan  zekasını  gerektiren  görevleri yapabilecek makinalar yapmaktır. YAPAY  ZEKA  araştırmalarının  amacı,  insan  varlığında  gözlemlediğimiz  ve  \"akıllı davranış\" olarak adlandırdığımız davranışları gösterebilen bilgisayarlar yapmaktır. YAPAY  ZEKA,  genel  olarak  insan  tarafından  yapıldığında,  doğal  zekayı  gerektiren görevleri  yapabilecek  mekanizmanın  oluşturulması  çabalarının tümü  olarak değerlendirilebilinir. YAPAY  ZEKA,  bilgisayarları  akıllı  yapma  bilimidir  ve  hem  bilgisayarları  daha faydalı  hale  getirmek  isteyenler,  hem  de  zekanın  doğasını  anlamak  isteyenler tarafından  uygulanmaktadır.  Zekanın  doğası  ile  ilgili  olanların  amacı,  zekayı  taklit etmek değil programı zeki hale getirmektir. Tüm bu tanımların veya farklılığından hareketle Yapay zekanın iki temel fikri yapıyla ilgili  olduğu  söylenebilir.  Bunlardan  birincisi;  zekanın  ne  olduğunun  anlaşılabilmesi için insan düşünce sürecinin araştırılması, ikincisi ise bu sürecin bilgisayarlar, robotlar vb. aracılığıyla gösterilmesi, somutlaştırılmasıdır. Tüm  bu  açıklamaların  ışığında  yapay  zekanın  en  çok  kabul  edilen  tanımı  şu  şekilde ortaya  konabilir:  Yapay  zeka,  insan  tarafından  yapıldığında  zeka  olarak  adlandırılan davranışların  (akıllı  davranışların)  makina  tarafından  da  yapılmasıdır;  ya  da  yapay zeka, insan aklının nasıl çalıştığını gösteren bir kuramdır. \f1.3.\n",
      "------------------------------------------------------------------------------------------\n",
      "açıklamaların  ışığında  yapay  zekanın  en  çok  kabul  edilen  tanımı  şu  şekilde ortaya  konabilir:  Yapay  zeka,  insan  tarafından  yapıldığında  zeka  olarak  adlandırılan davranışların  (akıllı  davranışların)  makina  tarafından  da  yapılmasıdır;  ya  da  yapay zeka, insan aklının nasıl çalıştığını gösteren bir kuramdır. \f1.3. YAPAY ZEKA AMAÇLARI Genel olarak yapay zekanın amacı üç ana başlık altında toplanabilir: •  Makinaları daha akıllı hale getirmek, •  Zekanın ne olduğunu anlamak, •  Makinaları daha faydalı hale getirmek, Bu noktada “akıllı davranış”ın tanımını ortaya koymak gerekmektedir. Birçok davranış türü, zekanın işaretleri olarak kabul edilebilir. Bunlara aşağıdaki tipik örnekleri gösterebiliriz: •  Tecrübelerden öğrenme ve anlama, •  Karışık ve zıt mesajlardan anlam çıkarma, •  Yeni bir duruma başarılı ve çabuk bir şekilde cevap verme, •  Problemlerin çözümünde muhakeme yeteneğini kullanma, •  Bilgiyi anlama ve kullanma, •  Alışık olunmayan, şaşırtıcı durumların üstesinden gelebilme, •  Düşünme ve muhakeme etme vb. 1.4. YAPAY ZEKA TARİHÇESİ Yapay  zekanın  tarihçesi  çeşitli  biçimlerde,  çeşitli  dönemlere  ayrılabilir.  Uygun  bir akışı içermesi bakımından aşağıdaki gibi bir sınıflandırma benimsenmiştir: Tarih  Öncesi  Dönem:  Bundan  binlerce  yıl  öncesinde  insanlığın  zor  anlaşılır  bir düşüncesi  vardı;  insan  vücudu  dışında  bir  zeka  yaratmak.  Bu  konuda  eski  Yunan mitolojisinde  de  bir  takım  örneklere  rastlamak  olasıdır;  rüzgarın  yaratıcısı  olarak \fbilinen Daedelus’ un bir yapay-insan yaratmaya teşebbüs etmesi buna bir örnek olarak gösterilebilir. Yapay zeka için en önemli dönüm noktası 1884 yılıdır. Bu tarihte, Charles Babbage adındaki bir bilim adamı, bazı zeki davranışlar göstermesini istediği bir takım mekanik makinalar üzerinde deneyler yapmaktaydı. İnsan kadar zeki olamayacağı üzerinde hemfikir olunan bu makinalar\n",
      "------------------------------------------------------------------------------------------\n",
      "yaratıcısı  olarak \fbilinen Daedelus’ un bir yapay-insan yaratmaya teşebbüs etmesi buna bir örnek olarak gösterilebilir. Yapay zeka için en önemli dönüm noktası 1884 yılıdır. Bu tarihte, Charles Babbage adındaki bir bilim adamı, bazı zeki davranışlar göstermesini istediği bir takım mekanik makinalar üzerinde deneyler yapmaktaydı. İnsan kadar zeki olamayacağı üzerinde hemfikir olunan bu makinalar üzerindeki çalışmalar sürdürülerek, nihayet 1950 yılına gelindi ve bu tarihte, Shannon adındaki bir bilim adamı, bilgisayarların satranç oynayabileceğini ileri sürdü. Böylece tarih öncesi adı altında isimlendirilen dönemin başındaki çalışmalar, 1960’ lı yılların başlarına kadar pek de hızlı denemeyecek bir süratte sürdürüldü. Doğuş:  Yapay  zeka  Birleşik  Devletler  Dartmouth'da  düzenlenen  ve  bir  grup  yüksek düzeyli bilim adamını biraraya getiren bir konferansın tarihi olan 1956'da doğmuştur. Bu konferansta J. McCarthy, M. Minsky, C. Shannon, A. Newell ve H. Simon zeka ile donatılmış bilgisayar programlarını gerçekleştirme olasılığını araştırmayı önermişlerdir.  Bu  vesile  ile  ortaya  konan  Artificial  Intelligence  terimi  kullanılmaya başlanmış. İlk yapay zeka programları (bir Mantık teoremleri uygulayıcısı, Logic Theorist ve bir satranç  oyunu  programı;  her  ikisi  de  Newell  ve  Simon'ındır)  ve  LISP  (yapay  zeka programlama dili) de bu dönemde ortaya çıkmıştır. Aslında insanın “zeki” makinelere ilgisi çok eskiye dayanır. Bilimsel bir planda ise bir yandan  otomatlar  üzerindeki  teorik  ve  pratik  gelişmeler,  diğer  yandan  matematiksel mantık çalışmaları yapay zekanın ilk temellerini oluşturmuştur. İlk  olarak  Babbage  (ve  \"analitik\"  makinesi,  1842),  Turing  (ve  evrensel  makinesi, 1936)  ve  beynin  edinilen  bilgileri  işlemesinde  karşı  tepki  olaylarının  önemini  ortaya çıkaran sibernetikten (1943'e doğru, özellikle Wiener ile doğan) bahsedilebilir. İkinci olarak  1930'a  doğru,  çözümün  algoritmik  olmadığı  (yani  çözümün  belli  bir  sıra  ile \fgerçekleşen  sınırlı  bir  işlemler  dizisi  şeklinde  ifade\n",
      "------------------------------------------------------------------------------------------\n",
      "evrensel  makinesi, 1936)  ve  beynin  edinilen  bilgileri  işlemesinde  karşı  tepki  olaylarının  önemini  ortaya çıkaran sibernetikten (1943'e doğru, özellikle Wiener ile doğan) bahsedilebilir. İkinci olarak  1930'a  doğru,  çözümün  algoritmik  olmadığı  (yani  çözümün  belli  bir  sıra  ile \fgerçekleşen  sınırlı  bir  işlemler  dizisi  şeklinde  ifade  edilmediği)  problemlerin  varlığı gerçeğinin  kanıtlanması  ile  sonuçlanan  çözümsüzlük  ve  eksik  kalma  konusundaki önemli çalışmalar Leibniz, Boole, Hilbert, Gödel ve Church'e aittir. Gerçek  yapay  zekanın  doğuşuna  yol  açan  gerçek  etmen  1943'e  doğru  bilgisayarların ortaya  çıkmasıdır.  Bu  dönemden  itibaren  bazı  öncüler  bu  makineleri  biraz  zeka  ile donatma  meselesini  ele  aldılar.  Böylelikle  1950'de  matematikçi  A.  Turing  bir makinenin  zeki  olup  olmadığına  karar  verme  olanağı  tanıyan  bir  test  ortaya  koydu. Temel  kuralı  tartışmalı olmakla birlikte bu test, bu dönemden itibaren bilgisayarların zekasına verilen önemi gayet iyi göstermektedir. Dartmouth  Konferansı:  Bu  konferansın  başlangıcı;  Yapay  zeka  konusunda  yeni  bir çağın  doğuşu  olarak  da  nitelendirilebilir.  Dartmouth  Koleji  tarafından  düzenlenen  bu konferansta  Yapay  zeka  (Artificial  Intelligent:  AI)  adı  ilk  kez  öğrenildi  ve  bu konferansa katılanlar, yapay zekanın öncüleri olarak kabul gördüler. Bunların arasında, Marvin  Minsky (MIT’  de  Yapay  zeka  laboratuvarının  kurucusu),  Claude  Shannon, Nathaniel  Rochester  (IBM),  Allen  Newell  (Amerikan  Yapay  Zeka  Derneği’  nin  ilk başkanı) ve Nobel Ödülü sahibi Herbert Simon sayılabilir. Bu  dönemde  ulaşılan  bazı  önemli  başarılara,  zeka  testlerindeki  benzer  geometrik şekillerin  ayırt  edilmesinde  kullanılan  bir  program  örnek  olarak  gösterilebilir.  Bu dönemdeki başarılar ne yazık ki zeki bilgisayarların yaratılması konusunda çok erken ve gerçekçi olmayan bir beklenti döneminin de başlangıcını oluşturdu. Karanlık Dönem (1965-1970): Bu dönemde çok az şeyin geliştirilebilmesi böyle bir\n",
      "------------------------------------------------------------------------------------------\n",
      "ulaşılan  bazı  önemli  başarılara,  zeka  testlerindeki  benzer  geometrik şekillerin  ayırt  edilmesinde  kullanılan  bir  program  örnek  olarak  gösterilebilir.  Bu dönemdeki başarılar ne yazık ki zeki bilgisayarların yaratılması konusunda çok erken ve gerçekçi olmayan bir beklenti döneminin de başlangıcını oluşturdu. Karanlık Dönem (1965-1970): Bu dönemde çok az şeyin geliştirilebilmesi böyle bir nitelemeyi  haklı  çıkarmaya  yetecek  özelliktedir.  Bir  önceki  dönemde  yaratılan  aşırı iyimser ve aceleci tutum, konuyla ilgili bilim adamlarını akıllı bilgisayarlar yapımının çok kolay bir işlem olduğuna inandırdı. Neticede bilgisayar uzmanları filozof türünde bir  mekanizma  geliştirmek  için  uğraştılar  ve  sadece  verileri  yükleyerek  akıllı bilgisayarlar  yapmayı  umdular.  Sonuç  olarak  bu  dönem  tam  anlamıyla  karanlık  bir bekleme dönemi niteliği kazandı. \fRönesans  Dönemi  (1970-1975):  Bu  dönem  artık  önüne  geçilemeyecek  gelişmelerin başlangıcı olarak algılanmaktadır. Yapay zeka uzmanları özellikle hastalık teşhisi gibi sistemleri  geliştirerek,  bugün  heyecanla  sonuçları  kestirilmeye  çalışılan,  uzun  ve heyecanlı bir maceranın temellerini attılar. Ortaklık  Dönemi  (1975-1980):  Rönesans  döneminin  hemen  ardındaki  bu  dönemde Yapay  zeka  araştırıcıları,  dil  ve  psikoloji  gibi  diğer  bilim  alanlarından  da faydalanabileceklerini gördüler. Gelişmenin  Önemli  Evreleri:  Yapay  zekanın  tarihi  çok  şematik  olarak  dört  evreye bölünebilir: Karşılaşılan  sorunlardaki  büyük  güçlükleri  henüz  tam  olarak  tartamamış  olan araştırmacıların  abartılı  bir  iyimserliği  ile  geçen  50'li  yıllar  yapay  zekanın  doğuşuna tanık olmuştur. Sonraki on yıl çok sayıdaki proje ve sağlanan bazı önemli sonuçlarla disiplinde gerçek bir  hareketliliğe  tanık  olmuştur:  “bulgusal”  (hiyerarşik) araştırma  algoritmaları  ve hatta GPS (General Problem Solbver), genel problem çözümleme sistemi vs. 70'li  yıllar  bilgilerin  temsil  edilmesi  ve\n",
      "------------------------------------------------------------------------------------------\n",
      "abartılı  bir  iyimserliği  ile  geçen  50'li  yıllar  yapay  zekanın  doğuşuna tanık olmuştur. Sonraki on yıl çok sayıdaki proje ve sağlanan bazı önemli sonuçlarla disiplinde gerçek bir  hareketliliğe  tanık  olmuştur:  “bulgusal”  (hiyerarşik) araştırma  algoritmaları  ve hatta GPS (General Problem Solbver), genel problem çözümleme sistemi vs. 70'li  yıllar  bilgilerin  temsil  edilmesi  ve  usavurmada,  uzman  sistemler,  anadilin anlaşılması  yada  ileri  robot  bilimi  konularında  yapay  zekanın  temellerinin  ortaya konmasına yol açan çalışmalarda bir patlamaya tanık olmuştur. 80'ler  adı  geçen  alanlarda  çarpıcı  pratik  uygulamalar  ve  buna  paralel  olarak sanayileşmiş ülkelerin büyük bir bölümünde gözü yükseklerde olan projeler tarafından araştırmaya  yönelik  çabalarda  kayda  değer  bir  artış  ile,  yapay  zekanın  ekonomik hayata girişini temsil ederler. \fİçinde  bulunduğumuz  girişimcilik  döneminin  en  önemli  özelliği  ise  Yapay  zekanın laboratuarın  dışına  çıkarılarak,  gerçek  dünyanın  ihtiyaçlarına  uyarlama  girişimleridir. Burada  yeni  olduğu  söylenebilecek  olan,  daha  önce  geleneksel  işlem  metodları  ile ihtiyaçları karşılanan kullanıcıların, bugün ekonomik olarak daha uygun yazılımlar ve araçlar sayesinde, daha geniş kullanım alanlarının ortaya çıkmasıdır. YZ için geliştirilen temel program John McCarthy tarafından 1957 de geliştirilen LISP programıdır. Basic, Fortran, Cobol ve Pascal gibi programların aksine, LISP sembol, kural,  ilişki  gibi  diğer  ayrıntılı  konularla  da  ilgilidir.  LISP  kullanıcıları  için  esas techizat,  LISP  makinası  veya  sembolik  işlemci  diye  adlandırılan  düzenektir.  Bu sembolik  işlemci,  bir  çeşit  bilgisayar  sistemi  ve  yapay  zeka  programlarının geliştirilmesi  ve  uygulanmasını  etkili  ve  verimli  şekilde  desteklemek  için  dizayn edilmiş mantıksal işlem yapan bir sistemdir. 1.5. YAPAY ZEKA ve DOĞAL ZEKA KARŞILAŞTIRMASI Yapay  zekanın  potansiyel  değeri  ve  gelecekteki  ufukları,\n",
      "------------------------------------------------------------------------------------------\n",
      "sembolik  işlemci  diye  adlandırılan  düzenektir.  Bu sembolik  işlemci,  bir  çeşit  bilgisayar  sistemi  ve  yapay  zeka  programlarının geliştirilmesi  ve  uygulanmasını  etkili  ve  verimli  şekilde  desteklemek  için  dizayn edilmiş mantıksal işlem yapan bir sistemdir. 1.5. YAPAY ZEKA ve DOĞAL ZEKA KARŞILAŞTIRMASI Yapay  zekanın  potansiyel  değeri  ve  gelecekteki  ufukları,  YZ’nın  doğal  zeka  ile  bazı alanlarda karşılaştırılmasıyla daha net bir şekilde algılanabilir. Yapay  Zeka  daha  fazla  kalıcıdır:  Doğal  zeka  zaman  içinde  çalışanlar  yer değiştirdikçe değişebilir veya doğal zekaya sahip olan insanlar sahip oldukları bilgileri  unutabilirler.  Yapay  zeka,  buna  karşılık  kalıcıdır  ve  bilgisayar sistemleri  ve  programları  değişmediği  sürece  kaybolması,  unutulması  söz konusu değildir. Yapay  Zeka  kolaylıkla  kopyalanabilir  ve  geniş  kitlelere  yayımlanabilir:  Doğal zeka söz konusu olduğunda bir uzmanlığın bir kişiden diğerine aktarılması uzun süreli bir çıraklık dönemini gerektirir. Bu sağlansa bile uzmanlık tam anlamıyla diğer  kişiye  transfer  edilemez.  Ama  bilgi  bir  bilgisayar  sisteminin  içine sokulursa,  bu  kolayca  bir  bilgisayardan  diğerine  kopya  edilebilir  ve  kullanım alanı genişletilebilir. \fYapay  Zeka  doğal  zekadan  daha  ucuza  elde  edilebilir:  Birçok  alanda bilgisayarın  satın  alınması  ve  kullanılması,  insanın  eğitilip  kullanılmasından çoğu alanda, çok daha ucuza sağlanabilir. Yapay  Zeka  bir  bilgisayar  teknolojisi  olarak  bütünüyle  tutarlıdır  onda tutarsızlık  yoktur:  Buna  karşılık  doğal  zeka  kararsız,  değişken  ve  düzensizdir. Bu, doğal zekanın sahibi olan insanın tabiatından kaynaklanır. Yapay  Zeka  dökümante  edilebilir:  Bilgisayar  tarafından  verilen  kararlar kolaylıkla  sistemin  faaliyetleri  takip  edilerek  belgelenebilir.  Doğal  zekanın tekrar  üretimi  zordur.  Örneğin  bir  insan  ulaştığı  bir  karara  belli  bir  süre geçtikten\n",
      "------------------------------------------------------------------------------------------\n",
      "doğal  zeka  kararsız,  değişken  ve  düzensizdir. Bu, doğal zekanın sahibi olan insanın tabiatından kaynaklanır. Yapay  Zeka  dökümante  edilebilir:  Bilgisayar  tarafından  verilen  kararlar kolaylıkla  sistemin  faaliyetleri  takip  edilerek  belgelenebilir.  Doğal  zekanın tekrar  üretimi  zordur.  Örneğin  bir  insan  ulaştığı  bir  karara  belli  bir  süre geçtikten sonra tekrar  ulaşamaz;  bu  karara  nasıl  ulaştığını,  hangi varsayımlardan yola çıktığını hatırlamayabilir. Bütün  bunlara  karşın  doğal  zekanın  da  yapay  zekadan  üstün  olduğu  durumlar  ve alanlar vardır. Bunlara şu örnekleri gösterebiliriz: Doğal  zeka  yaratıcı  ve  doğurgandır:  Yapay  zekada  ise  yaratıcılık  ve doğurganlık yoktur: Bilgiyi kazanma yeteneği insanın doğal zekasının doğal bir haliyken, yapay zekada bilgi, sistemin içine özenle yerleştirilmelidir. Doğal  zeka,  insanlara  duyuları  yoluyla  öğrendiği  deneyimleri  kullanma  ve bunlardan faydalanma yeteneği sağlar: Buna karşılık yapay zeka sistemlerinin çoğu sembolik girdilerle çalışırlar. Doğal zeka avantajlarının en önemlisi, insan muhakeme gücünün, problemleri çözmek  için  geniş  tecrübeleri,  karşılaşılan  konuya  göre  hemen  kullanma yeteneğidir: Yapay zeka sistemleri ise kendilerine sağlanan nispeten dar çözüm yöntemlerini kullanmaya mahkumdurlar. \fBilgisayarlar;  nesneler,  olaylar  yada  prosesler  hakkında  bilgi toplamak için kullanılabilir  ve  tabii  ki  bilgisayarlar  çok  büyük  miktarda  verileri  insanlardan  daha hızlı  ve  daha  verimli işleyebilirler.  Bununla  birlikte insanlar,  bir  bilgisayar programında yapılması çok zor olan bazı şeyleri içgüdüsel olarak yaparlar, nitelikleri hissedebilirler  ve  değişik  elemanların  birbiriyle  olan  ilişkisini  açıklamaya  yarayan modelleri görebilirler ve ayırt edebilirler. Gazete  fotoğrafları,  anlık  beneklerin  kümesinden  başka  birşey  değildir.  Yine  de insanlar,  bilinçli  bir  çaba  göstermeden  bu  fotoğraflardaki\n",
      "------------------------------------------------------------------------------------------\n",
      "insanlar,  bir  bilgisayar programında yapılması çok zor olan bazı şeyleri içgüdüsel olarak yaparlar, nitelikleri hissedebilirler  ve  değişik  elemanların  birbiriyle  olan  ilişkisini  açıklamaya  yarayan modelleri görebilirler ve ayırt edebilirler. Gazete  fotoğrafları,  anlık  beneklerin  kümesinden  başka  birşey  değildir.  Yine  de insanlar,  bilinçli  bir  çaba  göstermeden  bu  fotoğraflardaki  yüzleri  ve  nesneleri  ortaya çıkaran  modelleri  bulurlar.  Benzer  şekilde,  insanların  dünyada  olup  bitenleri hissetmesini  sağlayan  yollardan  biri  de  karşılaştıkları  nesnelere  ve  olaylara  anlam vermesine yardımcı olan ilişkilerin ve modellerin farkına varmasıdır. Eğer bilgisayarlar daha zeki olacaklarsa, insanlara çok doğal gelen nesneler, olaylar ve prosesler üzerinde düşünsel olarak bir araya gelebilmelidirler. 1.6. YAPAY ZEKA ile İGİLİ BAZI KAVRAMLAR Yapay zekanın en yaygın tanımlarından biri aşağıdaki gibidir: Yapay zeka, şu anda insanların bilgisayarlardan daha iyi yaptığı şeyleri bilgisayarların daha iyi yapmasını sağlama çalışmasıdır. Bu amaçla yapay zekanın amaçları aşağıdaki gibi düşünülebilinir. 1. Makineleri daha zeki yapmak(temel amaç) 2. Zekanın ne olduğunu anlamak 3. Makineleri daha kullanışlı hale getirmek Şimdi akıllı davranış teriminin anlamını inceleyelim. Aşağıda sıralanan birkaç yetenek zekanın göstergesi olarak düşünülür: •  Tecrübeden faydalanılarak öğrenme yada anlama •  Belirsiz ve çelişkili mesajlardan etkilenme \f•  Yeni  bir  duruma  çabuk  ve  başarılı  bir  şekilde  yanıt  verme  (değişik yanıtlar,esneklik) •  Problem çözmede sebepleri kullanma •  Sürpriz durumlara karşılık verme •  Olağan ve rasyonel yollarla anlama ve sonuç çıkarma •  Bilgiyi, ortamı işlemek için kullanmak •  Bilgiyi elde etme ve uygulama •  Düşünme ve sebep bulma •  Herhangi bir durumda değişik elemanların bağıl önemini belirleme Yapay zekanın en büyük amacı, insan zekasını taklit eden makineler yapmak olmasına rağmen,  mevcut  ticari  yapay  zeka  ürünlerinin  yetenekleri\n",
      "------------------------------------------------------------------------------------------\n",
      "durumlara karşılık verme •  Olağan ve rasyonel yollarla anlama ve sonuç çıkarma •  Bilgiyi, ortamı işlemek için kullanmak •  Bilgiyi elde etme ve uygulama •  Düşünme ve sebep bulma •  Herhangi bir durumda değişik elemanların bağıl önemini belirleme Yapay zekanın en büyük amacı, insan zekasını taklit eden makineler yapmak olmasına rağmen,  mevcut  ticari  yapay  zeka  ürünlerinin  yetenekleri  yukarıda  listelenen yeteneklerle  karşılaştırıldığında  önemli  bir  başarı sergilemekten  çok  uzak kalmaktadırlar.  Yine  de  yapay  zeka  programları  her  geçen  gün  daha  ileriye  gitmekte ve insan zekası gerektiren bazı işlere rehberlik etmekte oldukça faydalı olmaktadırlar. Alan  Turing  tarafından  “Turing  Test”  diye  bilinen  testinde,  bir  bilgisayarın  akıllı  bir davranış  sergileyip  sergilemediğini  belirlemesi  öngörülmüştür.  Bu  teste  göre,  bir insanın  görünmeyen  bir  bilgisayarla  ve  görünmeyen  bir  insanla  sohbet  ettiği  zaman, hangisinin  bilgisayar  hangisinin insan  olduğunu  ayırt  edemediği  durumda  o bilgisayarın,  ya  da  diğer  bir  deyişle  o  bilgisayarda  çalışan  programın  akıllı  olduğu söylenir. Bu noktada, sunulan yapay zeka tanımları zeka boyutu üzerinde yoğunlaşmıştır. Yapay zekanın  aşağıdaki  tanımları  ve  karakteristikleri  karar  verme  ve  problem  çözme üzerinde yoğunlaşmıştır. Sembolik İşleme Uzmanlar, yapay zekaya uygun tipte olan problemleri çözmek için, eşitlik kümelerini çözerek  yada  yorucu  matematik  hesaplamaları  yaparak  çalışmazlar.  Bunun  yerine, problem  içeriklerini  tanımlamak  için  sembol  kullanırlar  ve  bu  içerikleri  işlemek  için \fdeğişik  stratejiler  ve  kurallar  uygularlar.  Waterman'ın  yapay  zeka  yaklaşımı  bilgiyi, problem  konseptlerini  temsil  eden  semboller  kümesi  olarak  tanımlar.  Yapay  zekanın teknik  dilinde  sembol  gerçek  dünyanın  bazı  içeriklerini  temsil  eden  karakterler kümesidir. Aşağıda bazı sembol örneklerini görebilirsiniz: •  “Ürün” •\n",
      "------------------------------------------------------------------------------------------\n",
      "ve  bu  içerikleri  işlemek  için \fdeğişik  stratejiler  ve  kurallar  uygularlar.  Waterman'ın  yapay  zeka  yaklaşımı  bilgiyi, problem  konseptlerini  temsil  eden  semboller  kümesi  olarak  tanımlar.  Yapay  zekanın teknik  dilinde  sembol  gerçek  dünyanın  bazı  içeriklerini  temsil  eden  karakterler kümesidir. Aşağıda bazı sembol örneklerini görebilirsiniz: •  “Ürün” •  “Sanık” •  “0.8” Bu semboller anlamlı ilişkiler kurmak için bir araya getirilebilir. Bu ilişkiler, bir yapay zeka  programında  kullanıldığı  takdirde  bunlara  sembol  yapıları  denir.  Aşağıda  bazı sembol yapılarını görebilirsiniz: •  (HATALI Ürün) •  (Ürün sanığı tarafından KİRALANMIŞ) •  (EŞİTTİR (BORÇLU sanık) 0.8) Bu  yapılar,  “Ürün  hatalıdır”,  “Ürün  sanık  tarafından  kiralanmıştır”  ve  “Sanığın borçluluk  oranı  0.8”  dir  şeklinde  yorumlanabilir.  Bunun  yanında,  bu  yapılar  farklı şekilde  de  yorumlanabilirler.  İşte,  bu  farklı  yorumlama  yapay  zeka  sistemlerini kurarken karşılaştığımız problemlerden biridir. Bir problemi çözmek için, yapay zeka programı bu sembolleri kullanır. Bu yaklaşımın sonucu  olarak  bilginin  temsili-kullanılan  sembollerin  seçimi,  biçimi  ve  yorumu  çok önemlidir. Sembolik  işleme,  aşağıda  yapılan  tanımda  belirtildiği  gibi  yapay  zekanın  temel karakteristiğidir.  Yapay  zeka,  bilgisayar  biliminin  sembollerle  ve  problem  çözmede algoritmik  olmayan  metodlarla  çalışan  bir  dalıdır.  Aşağıdaki  tanım  bilgisayar programlarının iki karakteristiği üzerinde yoğunlaşır: 1. Sayısala karşı sembolik: Bilgisayarlar ilk olarak özellikle rakamları işlemek için tasarlandılar  (sayısal  işleme).  Buna  karşın  insanlar,  sembolik  olarak  düşünme \feğilimlidirler;  kısmen, zekamız rakamlardan çok sembolleri işleme yeteneğimize  bağlıdır.  Sembolik  işleme,  yapay  zekanın  çekirdeği  olmasına rağmen  bu,  yapay  zekanın\n",
      "------------------------------------------------------------------------------------------\n",
      "yoğunlaşır: 1. Sayısala karşı sembolik: Bilgisayarlar ilk olarak özellikle rakamları işlemek için tasarlandılar  (sayısal  işleme).  Buna  karşın  insanlar,  sembolik  olarak  düşünme \feğilimlidirler;  kısmen, zekamız rakamlardan çok sembolleri işleme yeteneğimize  bağlıdır.  Sembolik  işleme,  yapay  zekanın  çekirdeği  olmasına rağmen  bu,  yapay  zekanın  matematik  içermediği  anlamına  gelmez.  Ama tercihan, yapay zekada vurgu sembollerin işlenmesindedir. 2. Algoritmiğe karşı algoritmik olmayan: Bir algoritma iyi tanımlanmış başlangıç ve  bitiş  noktaları  olan  ve  belirli  bir  probleme  bir  sonuç  üreten  bir  adım  adım işlemleridir. Bilgisayar mimarisi, bu adım adım yaklaşımı tercih eder. Pek çok insandan  kaynaklı  işlemler,  algoritmik  değildirler.  Diğer  bir  deyişle,  zihin fonksiyonlarımız lojik ve adım adım  işlemlerden daha çok karmaşıktır. Bulgusallık (Sezgisellik) Bulgusallık, kurallar yumağı olarak, aşağıdaki tanımda yapay zekanın anahtar elemanı olarak  kullanılmıştır:  \"Yapay  zeka,  bilgisayar  biliminin,  bilgiyi  rakamlardan  ziyade sembollerle temsil etme yöntemleri ve kurallar yumağını içeren bulgusal yapıda veya bilgiyi işleme metodları  ile çalışan bilim dalıdır” (Britannica Ansiklopedisi). Anlam Çıkarma Yapay  zeka,  makinenin  sebep  bulma  yeteneği  sergilemesini  gerektirir.  Sebep  bulma, bulgusal yada diğer arama yaklaşımlarını kullanarak, olaylardan ve kurallardan anlam çıkarma sürecinden oluşur. Bu süreç üzerinde semboller üzerinde gerçeklenen en basit şekildeki  örüntü  uydurma  ve  tanıma  (pattern  matching,  recognation)  bu  işin  esasını oluşturmaktadır.  Yapay zeka,  bu yaklaşımını uygulayarak anlam çıkarmada eşsizdir.\n",
      "------------------------------------------------------------------------------------------\n"
     ]
    }
   ],
   "execution_count": 19
  },
  {
   "metadata": {
    "ExecuteTime": {
     "end_time": "2025-05-04T21:03:00.186694Z",
     "start_time": "2025-05-04T21:02:55.416302Z"
    }
   },
   "cell_type": "code",
   "source": [
    "# Index\n",
    "from langchain_openai import OpenAIEmbeddings\n",
    "from langchain_community.vectorstores import FAISS\n",
    "from dotenv import load_dotenv\n",
    "\n",
    "load_dotenv()\n",
    "\n",
    "\n",
    "vectorstore = FAISS.from_documents(\n",
    "    documents=splits,\n",
    "    embedding=OpenAIEmbeddings()\n",
    ")\n",
    "vectorstore.save_local(\"YapayZeka\")"
   ],
   "id": "3d1b7d3c69ca9ba5",
   "outputs": [],
   "execution_count": 3
  },
  {
   "metadata": {},
   "cell_type": "code",
   "outputs": [],
   "execution_count": null,
   "source": [
    "##############################################\n",
    "#                 RETRIEVAL                  #\n",
    "##############################################"
   ],
   "id": "fd5b4a926b01f7e6"
  },
  {
   "metadata": {
    "ExecuteTime": {
     "end_time": "2025-05-04T21:03:14.124346Z",
     "start_time": "2025-05-04T21:03:14.120501Z"
    }
   },
   "cell_type": "code",
   "source": [
    "from langchain_openai import OpenAIEmbeddings\n",
    "from langchain_community.vectorstores import FAISS\n",
    "from dotenv import load_dotenv"
   ],
   "id": "30d5cc7a597f6607",
   "outputs": [],
   "execution_count": 4
  },
  {
   "metadata": {
    "ExecuteTime": {
     "end_time": "2025-05-04T21:03:15.293296Z",
     "start_time": "2025-05-04T21:03:15.284790Z"
    }
   },
   "cell_type": "code",
   "source": "load_dotenv()",
   "id": "9c125070b91f3704",
   "outputs": [
    {
     "data": {
      "text/plain": [
       "True"
      ]
     },
     "execution_count": 5,
     "metadata": {},
     "output_type": "execute_result"
    }
   ],
   "execution_count": 5
  },
  {
   "metadata": {
    "ExecuteTime": {
     "end_time": "2025-05-04T21:03:17.901973Z",
     "start_time": "2025-05-04T21:03:17.226168Z"
    }
   },
   "cell_type": "code",
   "source": [
    "vb = FAISS.load_local(\n",
    "    folder_path=\"YapayZeka\",\n",
    "    embeddings=OpenAIEmbeddings(),\n",
    "    allow_dangerous_deserialization=True,\n",
    ")"
   ],
   "id": "efa9530758b397fe",
   "outputs": [],
   "execution_count": 6
  },
  {
   "metadata": {
    "ExecuteTime": {
     "end_time": "2025-05-04T21:03:22.168099Z",
     "start_time": "2025-05-04T21:03:22.163587Z"
    }
   },
   "cell_type": "code",
   "source": [
    "# Retriever tanımlanması\n",
    "retriever = vectorstore.as_retriever(search_kwargs={\"k\": 5})"
   ],
   "id": "f17d8bd6c37a74a1",
   "outputs": [],
   "execution_count": 7
  },
  {
   "metadata": {
    "ExecuteTime": {
     "end_time": "2025-05-04T21:03:26.172864Z",
     "start_time": "2025-05-04T21:03:25.518177Z"
    }
   },
   "cell_type": "code",
   "source": [
    "# Retriever ile ilgili belgelerin getirilmesi\n",
    "docs = retriever.get_relevant_documents(\"Yapay Zeka'nın amacı nedir ?\")\n",
    "len(docs)\n",
    "print(docs)"
   ],
   "id": "4c9b6cd9984633c5",
   "outputs": [
    {
     "name": "stderr",
     "output_type": "stream",
     "text": [
      "C:\\Users\\melih\\AppData\\Local\\Temp\\ipykernel_5476\\3673674139.py:2: LangChainDeprecationWarning: The method `BaseRetriever.get_relevant_documents` was deprecated in langchain-core 0.1.46 and will be removed in 1.0. Use :meth:`~invoke` instead.\n",
      "  docs = retriever.get_relevant_documents(\"Yapay Zeka'nın amacı nedir ?\")\n"
     ]
    },
    {
     "name": "stdout",
     "output_type": "stream",
     "text": [
      "[Document(id='e66d6bfa-f748-46f5-8a44-757cb9088ee8', metadata={'producer': 'Acrobat Distiller 6.0 (Windows)', 'creator': 'PScript5.dll Version 5.2', 'creationdate': '2006-11-05T22:13:15+02:00', 'moddate': '2006-11-05T22:13:15+02:00', 'title': 'Microsoft Word - yapay_zeka_icerik1_1.6.doc', 'author': 'sonmez', 'total_pages': 14, 'source': 'data/yapay_zeka_icerik1_1.6.pdf'}, page_content='yapay zekayı ele almıştır yada yapay zeka için özel ekler yayınlamışlardır. Ortaya düzinelerce yapay zeka kitabı çıkmıştır. Bir çok yapay zeka raporu düzenli olarak yayınlanmış ve dünya çapında bu konuda konferanslar düzenlenmiştir. 1.2. YAPAY ZEKA TANIMI \\x0cSayısız uygulama alanı olan “Yapay Zeka” kavramının doğal olarak pek çok tanımı da olacaktır.  Aşağıda bunlardan bir bölümü verilmiştir: YAPAY  ZEKA\\'nın  amacı,  normal  olarak  insan  zekasını  gerektiren  görevleri yapabilecek makinalar yapmaktır. YAPAY  ZEKA  araştırmalarının  amacı,  insan  varlığında  gözlemlediğimiz  ve  \"akıllı davranış\" olarak adlandırdığımız davranışları gösterebilen bilgisayarlar yapmaktır. YAPAY  ZEKA,  genel  olarak  insan  tarafından  yapıldığında,  doğal  zekayı  gerektiren görevleri  yapabilecek  mekanizmanın  oluşturulması  çabalarının tümü  olarak değerlendirilebilinir. YAPAY  ZEKA,  bilgisayarları  akıllı  yapma  bilimidir  ve  hem  bilgisayarları  daha faydalı  hale  getirmek  isteyenler,  hem  de  zekanın  doğasını  anlamak  isteyenler tarafından  uygulanmaktadır.  Zekanın  doğası  ile  ilgili  olanların  amacı,  zekayı  taklit etmek değil programı zeki hale getirmektir. Tüm bu tanımların veya farklılığından hareketle Yapay zekanın iki temel fikri yapıyla ilgili  olduğu  söylenebilir.  Bunlardan  birincisi;  zekanın  ne  olduğunun  anlaşılabilmesi için insan düşünce sürecinin araştırılması, ikincisi ise bu sürecin bilgisayarlar, robotlar vb. aracılığıyla gösterilmesi, somutlaştırılmasıdır. Tüm  bu  açıklamaların  ışığında  yapay  zekanın  en  çok  kabul  edilen  tanımı  şu  şekilde ortaya  konabilir:  Yapay  zeka,  insan  tarafından  yapıldığında  zeka  olarak  adlandırılan davranışların  (akıllı  davranışların)  makina  tarafından  da  yapılmasıdır;  ya  da  yapay zeka, insan aklının nasıl çalıştığını gösteren bir kuramdır. \\x0c1.3.'), Document(id='c1ddb219-e994-4b95-81f1-3e8cd9d729da', metadata={'producer': 'Acrobat Distiller 6.0 (Windows)', 'creator': 'PScript5.dll Version 5.2', 'creationdate': '2006-11-05T22:13:15+02:00', 'moddate': '2006-11-05T22:13:15+02:00', 'title': 'Microsoft Word - yapay_zeka_icerik1_1.6.doc', 'author': 'sonmez', 'total_pages': 14, 'source': 'data/yapay_zeka_icerik1_1.6.pdf'}, page_content=\"durumlara karşılık verme •  Olağan ve rasyonel yollarla anlama ve sonuç çıkarma •  Bilgiyi, ortamı işlemek için kullanmak •  Bilgiyi elde etme ve uygulama •  Düşünme ve sebep bulma •  Herhangi bir durumda değişik elemanların bağıl önemini belirleme Yapay zekanın en büyük amacı, insan zekasını taklit eden makineler yapmak olmasına rağmen,  mevcut  ticari  yapay  zeka  ürünlerinin  yetenekleri  yukarıda  listelenen yeteneklerle  karşılaştırıldığında  önemli  bir  başarı sergilemekten  çok  uzak kalmaktadırlar.  Yine  de  yapay  zeka  programları  her  geçen  gün  daha  ileriye  gitmekte ve insan zekası gerektiren bazı işlere rehberlik etmekte oldukça faydalı olmaktadırlar. Alan  Turing  tarafından  “Turing  Test”  diye  bilinen  testinde,  bir  bilgisayarın  akıllı  bir davranış  sergileyip  sergilemediğini  belirlemesi  öngörülmüştür.  Bu  teste  göre,  bir insanın  görünmeyen  bir  bilgisayarla  ve  görünmeyen  bir  insanla  sohbet  ettiği  zaman, hangisinin  bilgisayar  hangisinin insan  olduğunu  ayırt  edemediği  durumda  o bilgisayarın,  ya  da  diğer  bir  deyişle  o  bilgisayarda  çalışan  programın  akıllı  olduğu söylenir. Bu noktada, sunulan yapay zeka tanımları zeka boyutu üzerinde yoğunlaşmıştır. Yapay zekanın  aşağıdaki  tanımları  ve  karakteristikleri  karar  verme  ve  problem  çözme üzerinde yoğunlaşmıştır. Sembolik İşleme Uzmanlar, yapay zekaya uygun tipte olan problemleri çözmek için, eşitlik kümelerini çözerek  yada  yorucu  matematik  hesaplamaları  yaparak  çalışmazlar.  Bunun  yerine, problem  içeriklerini  tanımlamak  için  sembol  kullanırlar  ve  bu  içerikleri  işlemek  için \\x0cdeğişik  stratejiler  ve  kurallar  uygularlar.  Waterman'ın  yapay  zeka  yaklaşımı  bilgiyi, problem  konseptlerini  temsil  eden  semboller  kümesi  olarak  tanımlar.  Yapay  zekanın teknik  dilinde  sembol  gerçek  dünyanın  bazı  içeriklerini  temsil  eden  karakterler kümesidir. Aşağıda bazı sembol örneklerini görebilirsiniz: •  “Ürün” •\"), Document(id='8e51279c-1b56-4aeb-9e95-9a8667c306cd', metadata={'producer': 'Acrobat Distiller 6.0 (Windows)', 'creator': 'PScript5.dll Version 5.2', 'creationdate': '2006-11-05T22:13:15+02:00', 'moddate': '2006-11-05T22:13:15+02:00', 'title': 'Microsoft Word - yapay_zeka_icerik1_1.6.doc', 'author': 'sonmez', 'total_pages': 14, 'source': 'data/yapay_zeka_icerik1_1.6.pdf'}, page_content='insanlar,  bir  bilgisayar programında yapılması çok zor olan bazı şeyleri içgüdüsel olarak yaparlar, nitelikleri hissedebilirler  ve  değişik  elemanların  birbiriyle  olan  ilişkisini  açıklamaya  yarayan modelleri görebilirler ve ayırt edebilirler. Gazete  fotoğrafları,  anlık  beneklerin  kümesinden  başka  birşey  değildir.  Yine  de insanlar,  bilinçli  bir  çaba  göstermeden  bu  fotoğraflardaki  yüzleri  ve  nesneleri  ortaya çıkaran  modelleri  bulurlar.  Benzer  şekilde,  insanların  dünyada  olup  bitenleri hissetmesini  sağlayan  yollardan  biri  de  karşılaştıkları  nesnelere  ve  olaylara  anlam vermesine yardımcı olan ilişkilerin ve modellerin farkına varmasıdır. Eğer bilgisayarlar daha zeki olacaklarsa, insanlara çok doğal gelen nesneler, olaylar ve prosesler üzerinde düşünsel olarak bir araya gelebilmelidirler. 1.6. YAPAY ZEKA ile İGİLİ BAZI KAVRAMLAR Yapay zekanın en yaygın tanımlarından biri aşağıdaki gibidir: Yapay zeka, şu anda insanların bilgisayarlardan daha iyi yaptığı şeyleri bilgisayarların daha iyi yapmasını sağlama çalışmasıdır. Bu amaçla yapay zekanın amaçları aşağıdaki gibi düşünülebilinir. 1. Makineleri daha zeki yapmak(temel amaç) 2. Zekanın ne olduğunu anlamak 3. Makineleri daha kullanışlı hale getirmek Şimdi akıllı davranış teriminin anlamını inceleyelim. Aşağıda sıralanan birkaç yetenek zekanın göstergesi olarak düşünülür: •  Tecrübeden faydalanılarak öğrenme yada anlama •  Belirsiz ve çelişkili mesajlardan etkilenme \\x0c•  Yeni  bir  duruma  çabuk  ve  başarılı  bir  şekilde  yanıt  verme  (değişik yanıtlar,esneklik) •  Problem çözmede sebepleri kullanma •  Sürpriz durumlara karşılık verme •  Olağan ve rasyonel yollarla anlama ve sonuç çıkarma •  Bilgiyi, ortamı işlemek için kullanmak •  Bilgiyi elde etme ve uygulama •  Düşünme ve sebep bulma •  Herhangi bir durumda değişik elemanların bağıl önemini belirleme Yapay zekanın en büyük amacı, insan zekasını taklit eden makineler yapmak olmasına rağmen,  mevcut  ticari  yapay  zeka  ürünlerinin  yetenekleri'), Document(id='23508fe9-bcd1-481e-af06-34e3a5b551c5', metadata={'producer': 'Acrobat Distiller 6.0 (Windows)', 'creator': 'PScript5.dll Version 5.2', 'creationdate': '2006-11-05T22:13:15+02:00', 'moddate': '2006-11-05T22:13:15+02:00', 'title': 'Microsoft Word - yapay_zeka_icerik1_1.6.doc', 'author': 'sonmez', 'total_pages': 14, 'source': 'data/yapay_zeka_icerik1_1.6.pdf'}, page_content='açıklamaların  ışığında  yapay  zekanın  en  çok  kabul  edilen  tanımı  şu  şekilde ortaya  konabilir:  Yapay  zeka,  insan  tarafından  yapıldığında  zeka  olarak  adlandırılan davranışların  (akıllı  davranışların)  makina  tarafından  da  yapılmasıdır;  ya  da  yapay zeka, insan aklının nasıl çalıştığını gösteren bir kuramdır. \\x0c1.3. YAPAY ZEKA AMAÇLARI Genel olarak yapay zekanın amacı üç ana başlık altında toplanabilir: •  Makinaları daha akıllı hale getirmek, •  Zekanın ne olduğunu anlamak, •  Makinaları daha faydalı hale getirmek, Bu noktada “akıllı davranış”ın tanımını ortaya koymak gerekmektedir. Birçok davranış türü, zekanın işaretleri olarak kabul edilebilir. Bunlara aşağıdaki tipik örnekleri gösterebiliriz: •  Tecrübelerden öğrenme ve anlama, •  Karışık ve zıt mesajlardan anlam çıkarma, •  Yeni bir duruma başarılı ve çabuk bir şekilde cevap verme, •  Problemlerin çözümünde muhakeme yeteneğini kullanma, •  Bilgiyi anlama ve kullanma, •  Alışık olunmayan, şaşırtıcı durumların üstesinden gelebilme, •  Düşünme ve muhakeme etme vb. 1.4. YAPAY ZEKA TARİHÇESİ Yapay  zekanın  tarihçesi  çeşitli  biçimlerde,  çeşitli  dönemlere  ayrılabilir.  Uygun  bir akışı içermesi bakımından aşağıdaki gibi bir sınıflandırma benimsenmiştir: Tarih  Öncesi  Dönem:  Bundan  binlerce  yıl  öncesinde  insanlığın  zor  anlaşılır  bir düşüncesi  vardı;  insan  vücudu  dışında  bir  zeka  yaratmak.  Bu  konuda  eski  Yunan mitolojisinde  de  bir  takım  örneklere  rastlamak  olasıdır;  rüzgarın  yaratıcısı  olarak \\x0cbilinen Daedelus’ un bir yapay-insan yaratmaya teşebbüs etmesi buna bir örnek olarak gösterilebilir. Yapay zeka için en önemli dönüm noktası 1884 yılıdır. Bu tarihte, Charles Babbage adındaki bir bilim adamı, bazı zeki davranışlar göstermesini istediği bir takım mekanik makinalar üzerinde deneyler yapmaktaydı. İnsan kadar zeki olamayacağı üzerinde hemfikir olunan bu makinalar'), Document(id='43894219-2344-4b71-bf6c-357607f6b444', metadata={'producer': 'Acrobat Distiller 6.0 (Windows)', 'creator': 'PScript5.dll Version 5.2', 'creationdate': '2006-11-05T22:13:15+02:00', 'moddate': '2006-11-05T22:13:15+02:00', 'title': 'Microsoft Word - yapay_zeka_icerik1_1.6.doc', 'author': 'sonmez', 'total_pages': 14, 'source': 'data/yapay_zeka_icerik1_1.6.pdf'}, page_content=\"safhasındadır.  Her  geçen  gün, yapay  zeka  araştırmacıları  yapay  zekanın  yeniden  tanımlanmasına  yardımcı  olacak yenilikler  ortaya  koymaktadır.  Hatta  bazıları  bu  gelişmelere  bakarak  yapay  zekânın tanımlanması  imkansız  muğlak  bir  kavram  olduğunu  bile  söylemektedir.  YZ konusunda  yapılan  çalışmaların  her  birisinin  cevaptan  daha  çok  yeni  sorular  ortaya koyduğu  bile  söylenebilir.  Bununla  ilgili  olarak,  MIT  (Massachusette  Technical University) araştırma grubunda yapay zeka ile ilgili çalışmaların öncüsü olan Marvin Minsky Yapay zekanın  “hareket eden bir ufuk” gibi olduğunu ifade etmektedir. Yapay  zeka  konusundaki  çalışmalar  1960'lardan  beri  gündemde  olmasına  karşın Yapay  zeka  uygulamalarının  çok  büyük  boyutta  bilgisayar  gücüne ihtiyaç duymasından  dolayı  araştırmacıların  çoğunun  bu  alanda  yeni  bir  şey  ortaya  koyma gayreti sonuçsuz kalmıştır. Ancak  günümüzde  bilgisayar  teknolojisinde  yaşanan  gelişmelerin  sağladığı  ucuz  ve güçlü bilgisayarlar sayesinde yapay zeka alanında büyük ölçekli araştırma yapabilmek ekonomik açıdan mümkün hale gelebilmiştir. Bunun sonucu olarak, yapay zekanın bir alt  alanı  olan  uzman  sistemler  (expert  systems)  konusunda  daha  şimdiden  önemli gelişmeler  sağlanmış  olup,  iş  aleminin  karar  verme  sürecinde  uzman  sistemlerden önemli ölçüde yararlandığı gözlenmektedir. Son birkaç yıl uygulamalı yapay zekaya karşı artan bir ilgiye tanık olmuştur. Bu konu büyük ilgi uyandırmıştır. Birçok büyük süreli yayın kapak konusu olarak yapay zekayı ele almıştır yada yapay zeka için özel ekler yayınlamışlardır. Ortaya düzinelerce yapay zeka kitabı çıkmıştır. Bir çok yapay zeka raporu düzenli olarak yayınlanmış ve dünya çapında bu konuda konferanslar düzenlenmiştir. 1.2. YAPAY ZEKA TANIMI \\x0cSayısız uygulama alanı olan “Yapay Zeka” kavramının doğal olarak pek çok tanımı da olacaktır.  Aşağıda\")]\n"
     ]
    }
   ],
   "execution_count": 8
  },
  {
   "metadata": {},
   "cell_type": "code",
   "outputs": [],
   "execution_count": null,
   "source": [
    "##############################################\n",
    "#                 GENERATION                 #\n",
    "##############################################"
   ],
   "id": "daef27513943cb68"
  },
  {
   "metadata": {
    "ExecuteTime": {
     "end_time": "2025-05-04T21:03:31.071144Z",
     "start_time": "2025-05-04T21:03:30.988284Z"
    }
   },
   "cell_type": "code",
   "source": [
    "from langchain_openai import ChatOpenAI\n",
    "from langchain_community.vectorstores import FAISS\n",
    "from langchain_openai import OpenAIEmbeddings\n",
    "from langchain.prompts import ChatPromptTemplate\n",
    "from langchain_core.output_parsers import StrOutputParser\n",
    "from langchain_core.runnables import RunnablePassthrough\n",
    "from dotenv import load_dotenv\n",
    "\n",
    "load_dotenv()"
   ],
   "id": "6b3a226f080fca9d",
   "outputs": [
    {
     "data": {
      "text/plain": [
       "True"
      ]
     },
     "execution_count": 9,
     "metadata": {},
     "output_type": "execute_result"
    }
   ],
   "execution_count": 9
  },
  {
   "metadata": {
    "ExecuteTime": {
     "end_time": "2025-05-04T21:03:32.383935Z",
     "start_time": "2025-05-04T21:03:32.375333Z"
    }
   },
   "cell_type": "code",
   "source": [
    "# Prompt\n",
    "template = \"\"\"\n",
    "    1- Aşağıdaki bağlamları kullanarak soruyu yanıtlayın.\n",
    "    2- Sağlanan bağlamdan en ayrıntılı şekilde soruyu yanıtlayın.\n",
    "    3- En fazla 5 cümle kullanın.\n",
    "    4- Cevap sağlanan bağlamda yoksa, \"Üzgünüm cevabı bulamadım...\" demelisiniz.\n",
    "    5- Yanıt Türkçe olmalıdır.\n",
    "    Context:\\n {context}\\n\n",
    "    Question: \\n{question}\\n\n",
    "\"\"\"\n",
    "\n",
    "prompt = ChatPromptTemplate.from_template(template)\n",
    "prompt"
   ],
   "id": "2503362b0636dffb",
   "outputs": [
    {
     "data": {
      "text/plain": [
       "ChatPromptTemplate(input_variables=['context', 'question'], input_types={}, partial_variables={}, messages=[HumanMessagePromptTemplate(prompt=PromptTemplate(input_variables=['context', 'question'], input_types={}, partial_variables={}, template='\\n    1- Aşağıdaki bağlamları kullanarak soruyu yanıtlayın.\\n    2- Sağlanan bağlamdan en ayrıntılı şekilde soruyu yanıtlayın.\\n    3- En fazla 5 cümle kullanın.\\n    4- Cevap sağlanan bağlamda yoksa, \"Üzgünüm cevabı bulamadım...\" demelisiniz.\\n    5- Yanıt Türkçe olmalıdır.\\n    Context:\\n {context}\\n\\n    Question: \\n{question}\\n\\n'), additional_kwargs={})])"
      ]
     },
     "execution_count": 10,
     "metadata": {},
     "output_type": "execute_result"
    }
   ],
   "execution_count": 10
  },
  {
   "metadata": {
    "ExecuteTime": {
     "end_time": "2025-05-04T21:03:35.367813Z",
     "start_time": "2025-05-04T21:03:34.683430Z"
    }
   },
   "cell_type": "code",
   "source": [
    "# LLM\n",
    "llm = ChatOpenAI(model_name=\"gpt-4o\", temperature=0)"
   ],
   "id": "45de64ecf9d9c98d",
   "outputs": [],
   "execution_count": 11
  },
  {
   "metadata": {
    "ExecuteTime": {
     "end_time": "2025-05-04T21:03:36.916962Z",
     "start_time": "2025-05-04T21:03:36.912429Z"
    }
   },
   "cell_type": "code",
   "source": [
    "# Chain\n",
    "rag_chain = (\n",
    "    {\"context\": retriever, \"question\": RunnablePassthrough()}\n",
    "    | prompt\n",
    "    | llm\n",
    "    | StrOutputParser()\n",
    ")"
   ],
   "id": "bbd8b501419fe5ed",
   "outputs": [],
   "execution_count": 12
  },
  {
   "metadata": {
    "ExecuteTime": {
     "end_time": "2025-05-04T21:04:36.467586Z",
     "start_time": "2025-05-04T21:04:33.158081Z"
    }
   },
   "cell_type": "code",
   "source": [
    "# Run\n",
    "rag_response = rag_chain.invoke(\"Yapay Zeka'nın amacı nedir ?\")\n",
    "print(f\"RAG Response: \\n{rag_response}\")"
   ],
   "id": "f2bfdc16a40d6ae8",
   "outputs": [
    {
     "name": "stdout",
     "output_type": "stream",
     "text": [
      "Elcevab : \n",
      "Yapay Zeka'nın amacı, üç ana başlık altında toplanabilir: makinaları daha akıllı hale getirmek, zekanın ne olduğunu anlamak ve makinaları daha faydalı hale getirmektir. Yapay Zeka, insan tarafından yapıldığında zeka olarak adlandırılan davranışların makinalar tarafından da yapılmasını hedefler. Ayrıca, insan aklının nasıl çalıştığını gösteren bir kuram olarak da değerlendirilebilir. Yapay Zeka'nın en büyük amacı, insan zekasını taklit eden makineler yapmaktır. Ancak mevcut ticari yapay zeka ürünleri, bu hedefe ulaşmada henüz tam anlamıyla başarılı olamamıştır.\n"
     ]
    }
   ],
   "execution_count": 14
  }
 ],
 "metadata": {
  "kernelspec": {
   "display_name": "Python 3",
   "language": "python",
   "name": "python3"
  },
  "language_info": {
   "codemirror_mode": {
    "name": "ipython",
    "version": 2
   },
   "file_extension": ".py",
   "mimetype": "text/x-python",
   "name": "python",
   "nbconvert_exporter": "python",
   "pygments_lexer": "ipython2",
   "version": "2.7.6"
  }
 },
 "nbformat": 4,
 "nbformat_minor": 5
}
